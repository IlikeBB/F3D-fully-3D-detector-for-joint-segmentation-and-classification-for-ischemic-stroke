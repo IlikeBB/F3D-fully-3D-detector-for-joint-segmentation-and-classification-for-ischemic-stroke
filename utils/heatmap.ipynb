{
 "cells": [
  {
   "cell_type": "code",
   "execution_count": null,
   "metadata": {},
   "outputs": [],
   "source": [
    "from keras import backend as K\n",
    "from termcolor import colored\n",
    "def heatmap_setup(weight_dir, input_layer, last_conv,data):\n",
    "    model.load_weights(weight_dir)\n",
    "    img_data = data\n",
    "    img_data = np.expand_dims(img_data, axis=0)\n",
    "    img_data = np.expand_dims(img_data, axis=-1)\n",
    "    data = np.transpose(img_data)\n",
    "\n",
    "    preds = model.predict(img_data)\n",
    "    pred_class = np.argmax(preds)\n",
    "    pre_class_list = ['Anterior','Posterior']\n",
    "    print(colored(f'Prediction class: {pre_class_list[pred_class]}',\"red\"))\n",
    "\n",
    "    lacune_class = model.output[:, 1]\n",
    "\n",
    "    img_tensor = img_data\n",
    "    # input layer\n",
    "    input_layer = model.get_layer(input_layer)\n",
    "    # last conv layer\n",
    "    conv_layer = model.get_layer(last_conv)\n",
    "    heatmap_model = keras.Model([model.inputs],[conv_layer.output,model.output])\n",
    "\n",
    "    with tf.GradientTape() as gtape:\n",
    "        conv_output,predictions = heatmap_model(img_tensor)\n",
    "        loss = predictions[:,np.argmax(predictions[0])]\n",
    "        grads = gtape.gradient(loss, conv_output)\n",
    "        pooled_grads = K.mean(grads, axis=(0, 1, 2, 3))\n",
    "\n",
    "    heatmap = tf.reduce_mean(tf.multiply(pooled_grads, conv_output), axis=-1)\n",
    "    heatmap = np.maximum(heatmap, 0)\n",
    "    max_heat = np.min(heatmap)\n",
    "    if max_heat ==0:\n",
    "        max_heat = 1e-10\n",
    "    heatmap/=max_heat\n",
    "    heatmap = heatmap\n",
    "    # (38, 192, 192, 28)\n",
    "\n",
    "    data = np.squeeze(heatmap, axis=0)\n",
    "    data = np.transpose(data)\n",
    "    plt.figure(figsize=(12,12))\n",
    "    for i in range(data.shape[0]):\n",
    "        plt.subplot(1,data.shape[0],i+1)\n",
    "        plt.imshow(data[i])\n",
    "\n",
    "    plt.subplots_adjust(wspace=0.2, hspace=0.2, left=0, right=1, bottom=0, top=1)\n",
    "    plt.show()"
   ]
  }
 ],
 "metadata": {
  "kernelspec": {
   "display_name": "Python 3",
   "language": "python",
   "name": "python3"
  },
  "language_info": {
   "codemirror_mode": {
    "name": "ipython",
    "version": 3
   },
   "file_extension": ".py",
   "mimetype": "text/x-python",
   "name": "python",
   "nbconvert_exporter": "python",
   "pygments_lexer": "ipython3",
   "version": "3.7.9"
  }
 },
 "nbformat": 4,
 "nbformat_minor": 4
}
