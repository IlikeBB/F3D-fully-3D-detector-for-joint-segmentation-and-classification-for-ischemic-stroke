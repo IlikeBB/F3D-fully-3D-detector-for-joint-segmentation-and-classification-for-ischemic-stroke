{
 "cells": [
  {
   "cell_type": "code",
   "execution_count": 1,
   "metadata": {
    "executionInfo": {
     "elapsed": 2817,
     "status": "ok",
     "timestamp": 1610349740483,
     "user": {
      "displayName": "簡志宇",
      "photoUrl": "",
      "userId": "16413035766833027426"
     },
     "user_tz": -480
    },
    "id": "uXA4lt-kQvlT"
   },
   "outputs": [],
   "source": [
    "import zipfile, os, cv2\n",
    "import numpy as np\n",
    "import tensorflow as tf\n",
    "import pandas as pd\n",
    "tf.executing_eagerly()\n",
    "from tensorflow import keras\n",
    "from tensorflow.keras import layers\n",
    "# Display\n",
    "from IPython.display import Image\n",
    "import matplotlib.pyplot as plt\n",
    "import matplotlib.cm as cm\n",
    "import nibabel as nib\n",
    "from skimage import morphology\n",
    "from scipy import ndimage\n",
    "from PIL import Image\n",
    "MRI_nii_folder_path = 'nii_save_np/lacune/'"
   ]
  },
  {
   "cell_type": "code",
   "execution_count": 2,
   "metadata": {
    "executionInfo": {
     "elapsed": 4588,
     "status": "ok",
     "timestamp": 1610349742367,
     "user": {
      "displayName": "簡志宇",
      "photoUrl": "",
      "userId": "16413035766833027426"
     },
     "user_tz": -480
    },
    "id": "Lk_3Y94z1yhl"
   },
   "outputs": [],
   "source": [
    "seed = 3\n",
    "# seed: cv1=1 cv2=2 cv3=3 cv4=4 cv5=5"
   ]
  },
  {
   "cell_type": "code",
   "execution_count": 3,
   "metadata": {
    "colab": {
     "base_uri": "https://localhost:8080/"
    },
    "executionInfo": {
     "elapsed": 7790,
     "status": "ok",
     "timestamp": 1610349745612,
     "user": {
      "displayName": "簡志宇",
      "photoUrl": "",
      "userId": "16413035766833027426"
     },
     "user_tz": -480
    },
    "id": "PEPA2nt1ywth",
    "outputId": "8a93f992-1861-48b5-9242-f2d33413288f"
   },
   "outputs": [
    {
     "name": "stdout",
     "output_type": "stream",
     "text": [
      "(129, 32, 192, 192) (129,) (129,)\n"
     ]
    }
   ],
   "source": [
    "cv = seed\n",
    "train_val_x = np.load(MRI_nii_folder_path+f'cv{cv}_x_ctrain_val.npy')\n",
    "train_val_y = np.load(MRI_nii_folder_path+f'cv{cv}_y_ctrain_val.npy')\n",
    "train_val_path = np.load(MRI_nii_folder_path+f'cv{cv}_path_train_val.npy')\n",
    "print(train_val_x.shape,train_val_y.shape,train_val_path.shape)"
   ]
  },
  {
   "cell_type": "code",
   "execution_count": 4,
   "metadata": {},
   "outputs": [
    {
     "name": "stdout",
     "output_type": "stream",
     "text": [
      "103\n"
     ]
    }
   ],
   "source": [
    "print(int(train_val_x.shape[0]*0.8))"
   ]
  },
  {
   "cell_type": "code",
   "execution_count": 5,
   "metadata": {
    "executionInfo": {
     "elapsed": 7781,
     "status": "ok",
     "timestamp": 1610349745613,
     "user": {
      "displayName": "簡志宇",
      "photoUrl": "",
      "userId": "16413035766833027426"
     },
     "user_tz": -480
    },
    "id": "f24QzBfx16za"
   },
   "outputs": [],
   "source": [
    "x_train = train_val_x[:103]\n",
    "y_train = train_val_y[:103]\n",
    "x_val = train_val_x[103:]\n",
    "y_val = train_val_y[103:]\n",
    "train_path = train_val_path[:103]\n",
    "valid_path = train_val_path[103:]"
   ]
  },
  {
   "cell_type": "code",
   "execution_count": 6,
   "metadata": {
    "colab": {
     "base_uri": "https://localhost:8080/"
    },
    "executionInfo": {
     "elapsed": 7773,
     "status": "ok",
     "timestamp": 1610349745614,
     "user": {
      "displayName": "簡志宇",
      "photoUrl": "",
      "userId": "16413035766833027426"
     },
     "user_tz": -480
    },
    "id": "yqVpDnP9w_Ph",
    "outputId": "82d49741-d319-48f1-a2ea-36742419d464"
   },
   "outputs": [
    {
     "name": "stdout",
     "output_type": "stream",
     "text": [
      "(103, 32, 192, 192)\n",
      "(103,)\n",
      "(26, 32, 192, 192)\n",
      "[1 1 1 1 1 1 1 1 1 1 1 0 0 0 0 0 0 0 0 0 0 0 0 0 0 0]\n",
      "(103,)\n",
      "(26,)\n"
     ]
    }
   ],
   "source": [
    "from keras.utils.np_utils import to_categorical\n",
    "imgs_train = x_train.astype(np.float32)\n",
    "imgs_valid = x_val.astype(np.float32)\n",
    "# imgs_label_train = to_categorical(y_train, 2)\n",
    "# imgs_label_valid = to_categorical(y_val, 2)\n",
    "imgs_label_train = y_train.astype(int)\n",
    "imgs_label_valid = y_val.astype(int)\n",
    "print(imgs_train.shape)\n",
    "print(imgs_label_train.shape)\n",
    "print(imgs_valid.shape)\n",
    "print(imgs_label_valid)\n",
    "print(train_path.shape)\n",
    "print(valid_path.shape)"
   ]
  },
  {
   "cell_type": "code",
   "execution_count": 7,
   "metadata": {},
   "outputs": [
    {
     "name": "stdout",
     "output_type": "stream",
     "text": [
      "moderate-severe = 0:0.8583333333333333, mild = 1:1.197674418604651\n",
      "[1. 1. 1. 1. 1. 1. 1. 1. 1. 1. 1. 1. 1. 1. 1. 1. 1. 1. 1. 1. 1. 1. 1. 1.\n",
      " 1. 1. 1. 1. 1. 1. 1. 1. 1. 1. 1. 1. 1. 1. 1. 1. 1. 1. 1. 0. 0. 0. 0. 0.\n",
      " 0. 0. 0. 0. 0. 0. 0. 0. 0. 0. 0. 0. 0. 0. 0. 0. 0. 0. 0. 0. 0. 0. 0. 0.\n",
      " 0. 0. 0. 0. 0. 0. 0. 0. 0. 0. 0. 0. 0. 0. 0. 0. 0. 0. 0. 0. 0. 0. 0. 0.\n",
      " 0. 0. 0. 0. 0. 0. 0.]\n",
      "[1.19767439 1.19767439 1.19767439 1.19767439 1.19767439 1.19767439\n",
      " 1.19767439 1.19767439 1.19767439 1.19767439 1.19767439 1.19767439\n",
      " 1.19767439 1.19767439 1.19767439 1.19767439 1.19767439 1.19767439\n",
      " 1.19767439 1.19767439 1.19767439 1.19767439 1.19767439 1.19767439\n",
      " 1.19767439 1.19767439 1.19767439 1.19767439 1.19767439 1.19767439\n",
      " 1.19767439 1.19767439 1.19767439 1.19767439 1.19767439 1.19767439\n",
      " 1.19767439 1.19767439 1.19767439 1.19767439 1.19767439 1.19767439\n",
      " 1.19767439 0.85833335 0.85833335 0.85833335 0.85833335 0.85833335\n",
      " 0.85833335 0.85833335 0.85833335 0.85833335 0.85833335 0.85833335\n",
      " 0.85833335 0.85833335 0.85833335 0.85833335 0.85833335 0.85833335\n",
      " 0.85833335 0.85833335 0.85833335 0.85833335 0.85833335 0.85833335\n",
      " 0.85833335 0.85833335 0.85833335 0.85833335 0.85833335 0.85833335\n",
      " 0.85833335 0.85833335 0.85833335 0.85833335 0.85833335 0.85833335\n",
      " 0.85833335 0.85833335 0.85833335 0.85833335 0.85833335 0.85833335\n",
      " 0.85833335 0.85833335 0.85833335 0.85833335 0.85833335 0.85833335\n",
      " 0.85833335 0.85833335 0.85833335 0.85833335 0.85833335 0.85833335\n",
      " 0.85833335 0.85833335 0.85833335 0.85833335 0.85833335 0.85833335\n",
      " 0.85833335]\n"
     ]
    },
    {
     "name": "stderr",
     "output_type": "stream",
     "text": [
      "/home/john/anaconda3/envs/er_tf2/lib/python3.7/site-packages/sklearn/utils/validation.py:70: FutureWarning: Pass classes=[0, 1], y=[1. 1. 1. 1. 1. 1. 1. 1. 1. 1. 1. 1. 1. 1. 1. 1. 1. 1. 1. 1. 1. 1. 1. 1.\n",
      " 1. 1. 1. 1. 1. 1. 1. 1. 1. 1. 1. 1. 1. 1. 1. 1. 1. 1. 1. 0. 0. 0. 0. 0.\n",
      " 0. 0. 0. 0. 0. 0. 0. 0. 0. 0. 0. 0. 0. 0. 0. 0. 0. 0. 0. 0. 0. 0. 0. 0.\n",
      " 0. 0. 0. 0. 0. 0. 0. 0. 0. 0. 0. 0. 0. 0. 0. 0. 0. 0. 0. 0. 0. 0. 0. 0.\n",
      " 0. 0. 0. 0. 0. 0. 0.] as keyword args. From version 0.25 passing these as positional arguments will result in an error\n",
      "  FutureWarning)\n"
     ]
    }
   ],
   "source": [
    "# class weights\n",
    "from sklearn.utils.class_weight import compute_class_weight\n",
    "classes=[0,1]\n",
    "cw = compute_class_weight('balanced', classes, y_train)\n",
    "print(f\"moderate-severe = 0:{cw[0]}, mild = 1:{cw[1]}\")\n",
    "# print(cw)\n",
    "sample_weight = np.ones(shape=(len(y_train),))\n",
    "sample_weight[y_train == 0] = cw[0].astype(np.float32)\n",
    "sample_weight[y_train == 1] = cw[1].astype(np.float32)\n",
    "# print(y_train)\n",
    "# print(sample_weight)"
   ]
  },
  {
   "cell_type": "code",
   "execution_count": 8,
   "metadata": {},
   "outputs": [
    {
     "name": "stdout",
     "output_type": "stream",
     "text": [
      "pixel max = 1 pixel min = 0\n",
      "pixel max = 6.0720720291137695 pixel min = 0.0\n"
     ]
    },
    {
     "data": {
      "image/png": "[encoded data removed]",
      "text/plain": [
       "<Figure size 1440x1440 with 8 Axes>"
      ]
     },
     "metadata": {
      "needs_background": "light"
     },
     "output_type": "display_data"
    }
   ],
   "source": [
    "plt.figure(figsize=(20,20))\n",
    "mask_arr_ = imgs_train[50]\n",
    "print(f\"pixel max = {np.max(imgs_label_valid)} pixel min = {np.min(imgs_label_valid)}\")\n",
    "print(f\"pixel max = {np.max(imgs_train)} pixel min = {np.min(imgs_train)}\")\n",
    "for i in range(mask_arr_.shape[0]-24):\n",
    "    plt.subplot(1,mask_arr_.shape[0]-24,i+1)\n",
    "    plt.axis('off')\n",
    "    plt.imshow(mask_arr_[i],cmap='gray')"
   ]
  },
  {
   "cell_type": "code",
   "execution_count": 9,
   "metadata": {
    "executionInfo": {
     "elapsed": 7765,
     "status": "ok",
     "timestamp": 1610349745615,
     "user": {
      "displayName": "簡志宇",
      "photoUrl": "",
      "userId": "16413035766833027426"
     },
     "user_tz": -480
    },
    "id": "oclGgc-px6JC"
   },
   "outputs": [],
   "source": [
    "from utils.processing_data import train_preprocessing, validation_preprocessing"
   ]
  },
  {
   "cell_type": "code",
   "execution_count": 10,
   "metadata": {
    "executionInfo": {
     "elapsed": 8469,
     "status": "ok",
     "timestamp": 1610349746326,
     "user": {
      "displayName": "簡志宇",
      "photoUrl": "",
      "userId": "16413035766833027426"
     },
     "user_tz": -480
    },
    "id": "YuZxpiEu0kBk"
   },
   "outputs": [],
   "source": [
    "# Define data loaders.\n",
    "train_loader = tf.data.Dataset.from_tensor_slices((imgs_train, imgs_label_train, sample_weight))\n",
    "validation_loader = tf.data.Dataset.from_tensor_slices((imgs_valid, imgs_label_valid))\n",
    "\n",
    "batch_size = 4"
   ]
  },
  {
   "cell_type": "code",
   "execution_count": 11,
   "metadata": {
    "executionInfo": {
     "elapsed": 8464,
     "status": "ok",
     "timestamp": 1610349746327,
     "user": {
      "displayName": "簡志宇",
      "photoUrl": "",
      "userId": "16413035766833027426"
     },
     "user_tz": -480
    },
    "id": "BJhr1S8t2hCO"
   },
   "outputs": [],
   "source": [
    "# Augment the on the fly during training.\n",
    "train_dataset = (\n",
    "    train_loader.shuffle(len(x_train))\n",
    "    .map(train_preprocessing)\n",
    "    .batch(batch_size)\n",
    "#     .prefetch(2)\n",
    ")\n",
    "# Only rescale.\n",
    "validation_dataset = (\n",
    "    validation_loader.shuffle(len(x_val))\n",
    "    .map(validation_preprocessing)\n",
    "    .batch(batch_size)\n",
    "#     .prefetch(2)\n",
    ")"
   ]
  },
  {
   "cell_type": "code",
   "execution_count": 12,
   "metadata": {
    "colab": {
     "base_uri": "https://localhost:8080/"
    },
    "executionInfo": {
     "elapsed": 8732,
     "status": "ok",
     "timestamp": 1610349746603,
     "user": {
      "displayName": "簡志宇",
      "photoUrl": "",
      "userId": "16413035766833027426"
     },
     "user_tz": -480
    },
    "id": "TmJYpykn2qlo",
    "outputId": "c9c0cdef-8af4-4345-a7c6-bbb5a37b27f3"
   },
   "outputs": [
    {
     "name": "stdout",
     "output_type": "stream",
     "text": [
      "(None, 30, 95, 95, 64)\n",
      "(None, 14, 46, 93, 64)\n",
      "(None, 6, 22, 91, 128)\n",
      "(None, 2, 10, 89, 256)\n"
     ]
    }
   ],
   "source": [
    "from tensorflow import keras\n",
    "from tensorflow.keras import layers\n",
    "from utils.model_1 import get_model\n",
    "model = get_model(depth=32, width=192, height=192, class_num=1, classification_layer='sigmoid')\n",
    "# model.summary()"
   ]
  },
  {
   "cell_type": "code",
   "execution_count": 13,
   "metadata": {
    "executionInfo": {
     "elapsed": 8719,
     "status": "ok",
     "timestamp": 1610349746603,
     "user": {
      "displayName": "簡志宇",
      "photoUrl": "",
      "userId": "16413035766833027426"
     },
     "user_tz": -480
    },
    "id": "ukum2JHC68BS"
   },
   "outputs": [],
   "source": [
    "from keras import backend as K\n",
    "def binary_focal_loss(gamma=2, alpha=0.25):\n",
    "\n",
    "    alpha = tf.constant(alpha, dtype=tf.float32)\n",
    "    gamma = tf.constant(gamma, dtype=tf.float32)\n",
    "\n",
    "    def binary_focal_loss_fixed(y_true, y_pred):\n",
    "        y_true = tf.cast(y_true, tf.float32)\n",
    "        alpha_t = y_true*alpha + (K.ones_like(y_true)-y_true)*(1-alpha)\n",
    "    \n",
    "        p_t = y_true*y_pred + (K.ones_like(y_true)-y_true)*(K.ones_like(y_true)-y_pred) + K.epsilon()\n",
    "        focal_loss = - alpha_t * K.pow((K.ones_like(y_true)-p_t),gamma) * K.log(p_t)\n",
    "        return K.mean(focal_loss)\n",
    "    return binary_focal_loss_fixed\n",
    "focal_loss = binary_focal_loss(gamma=2, alpha=0.25)"
   ]
  },
  {
   "cell_type": "code",
   "execution_count": 14,
   "metadata": {
    "executionInfo": {
     "elapsed": 9047,
     "status": "ok",
     "timestamp": 1610349746938,
     "user": {
      "displayName": "簡志宇",
      "photoUrl": "",
      "userId": "16413035766833027426"
     },
     "user_tz": -480
    },
    "id": "wnVKS3KG3Emq"
   },
   "outputs": [],
   "source": [
    "import datetime, keras.callbacks\n",
    "initial_learning_rate = 1e-5\n",
    "lr_schedule = keras.optimizers.schedules.ExponentialDecay(\n",
    "    initial_learning_rate, decay_steps=100000, decay_rate=0.96, staircase=True\n",
    ")\n",
    "model.compile(\n",
    "    # loss=\"binary_crossentropy\",\n",
    "    loss=focal_loss,\n",
    "    optimizer=keras.optimizers.Adam(learning_rate = lr_schedule),\n",
    "    metrics=[tf.keras.metrics.BinaryAccuracy(name='acc')\n",
    "             ,tf.keras.metrics.AUC(name = 'auc')\n",
    "             ,tf.keras.metrics.Recall(name = 'rec')\n",
    "            ],\n",
    ")\n",
    "\n",
    "# Define callbacks.\n",
    "save_path ='chekpoint/lacune/'\n",
    "checkpoint_name = f\"154_lacune_batch-4_wce_relu_aug_Adam-lr_1e-5_cv{cv}_t1_cw\"\n",
    "tlogdir = os.path.join(\"chekpoint/logs_lacune/\", checkpoint_name)\n",
    "tensorboard_callback = tf.keras.callbacks.TensorBoard(log_dir=tlogdir,histogram_freq=1)\n",
    "\n",
    "checkpoint_cb = keras.callbacks.ModelCheckpoint(\n",
    "    f\"{save_path}{checkpoint_name}.h5\", monitor=\"val_acc\", verbose=1, save_best_only=True\n",
    ")\n",
    "# early_stopping_cb = keras.callbacks.EarlyStopping(monitor=\"val_accuracy\", patience=30)\n",
    "reduceLR_cb = keras.callbacks.ReduceLROnPlateau(monitor=\"val_loss\", patience=15, \n",
    "                                                factor=0.1, verbose=1, min_lr=1e-8)"
   ]
  },
  {
   "cell_type": "code",
   "execution_count": 15,
   "metadata": {},
   "outputs": [
    {
     "name": "stdout",
     "output_type": "stream",
     "text": [
      "chekpoint/lacune/154_lacune_batch-4_wce_relu_aug_Adam-lr_1e-5_cv3_t1_cw.h5\n"
     ]
    }
   ],
   "source": [
    "weight_path=save_path+checkpoint_name+'.h5'\n",
    "print(weight_path)"
   ]
  },
  {
   "cell_type": "code",
   "execution_count": 16,
   "metadata": {
    "colab": {
     "base_uri": "https://localhost:8080/"
    },
    "executionInfo": {
     "elapsed": 3678099,
     "status": "ok",
     "timestamp": 1610353416008,
     "user": {
      "displayName": "簡志宇",
      "photoUrl": "",
      "userId": "16413035766833027426"
     },
     "user_tz": -480
    },
    "id": "e7bBYi4O6877",
    "outputId": "58b01e6b-8ef4-47a1-c9bb-601c426e636a",
    "scrolled": true
   },
   "outputs": [
    {
     "name": "stdout",
     "output_type": "stream",
     "text": [
      "Epoch 1/150\n",
      "26/26 [==============================] - ETA: 0s - loss: 0.0783 - acc: 0.7379 - auc: 0.8213 - rec: 0.8605\n",
      "Epoch 00001: val_acc improved from -inf to 0.42308, saving model to chekpoint/lacune/154_lacune_batch-4_wce_relu_aug_Adam-lr_1e-5_cv3_t1_cw.h5\n",
      "26/26 [==============================] - 23s 870ms/step - loss: 0.0783 - acc: 0.7379 - auc: 0.8213 - rec: 0.8605 - val_loss: 0.0984 - val_acc: 0.4231 - val_auc: 0.6212 - val_rec: 1.0000\n",
      "Epoch 2/150\n",
      "26/26 [==============================] - ETA: 0s - loss: 0.0710 - acc: 0.7573 - auc: 0.8277 - rec: 0.8605\n",
      "Epoch 00002: val_acc did not improve from 0.42308\n",
      "26/26 [==============================] - 20s 788ms/step - loss: 0.0710 - acc: 0.7573 - auc: 0.8277 - rec: 0.8605 - val_loss: 0.1020 - val_acc: 0.4231 - val_auc: 0.5000 - val_rec: 1.0000\n",
      "Epoch 3/150\n",
      "26/26 [==============================] - ETA: 0s - loss: 0.0713 - acc: 0.6602 - auc: 0.7488 - rec: 0.6512\n",
      "Epoch 00003: val_acc did not improve from 0.42308\n",
      "26/26 [==============================] - 20s 775ms/step - loss: 0.0713 - acc: 0.6602 - auc: 0.7488 - rec: 0.6512 - val_loss: 0.1039 - val_acc: 0.4231 - val_auc: 0.5000 - val_rec: 1.0000\n",
      "Epoch 4/150\n",
      "26/26 [==============================] - ETA: 0s - loss: 0.0622 - acc: 0.7961 - auc: 0.8812 - rec: 0.8372\n",
      "Epoch 00004: val_acc did not improve from 0.42308\n",
      "26/26 [==============================] - 20s 787ms/step - loss: 0.0622 - acc: 0.7961 - auc: 0.8812 - rec: 0.8372 - val_loss: 0.1053 - val_acc: 0.4231 - val_auc: 0.4121 - val_rec: 1.0000\n",
      "Epoch 5/150\n",
      "26/26 [==============================] - ETA: 0s - loss: 0.0584 - acc: 0.7670 - auc: 0.8508 - rec: 0.7209\n",
      "Epoch 00005: val_acc did not improve from 0.42308\n",
      "26/26 [==============================] - 21s 796ms/step - loss: 0.0584 - acc: 0.7670 - auc: 0.8508 - rec: 0.7209 - val_loss: 0.1102 - val_acc: 0.4231 - val_auc: 0.4667 - val_rec: 1.0000\n",
      "Epoch 6/150\n",
      "26/26 [==============================] - ETA: 0s - loss: 0.0606 - acc: 0.8058 - auc: 0.8374 - rec: 0.7674\n",
      "Epoch 00006: val_acc did not improve from 0.42308\n",
      "26/26 [==============================] - 22s 830ms/step - loss: 0.0606 - acc: 0.8058 - auc: 0.8374 - rec: 0.7674 - val_loss: 0.1086 - val_acc: 0.4231 - val_auc: 0.5333 - val_rec: 1.0000\n",
      "Epoch 7/150\n",
      "26/26 [==============================] - ETA: 0s - loss: 0.0581 - acc: 0.6990 - auc: 0.8359 - rec: 0.6047\n",
      "Epoch 00007: val_acc did not improve from 0.42308\n",
      "26/26 [==============================] - 20s 784ms/step - loss: 0.0581 - acc: 0.6990 - auc: 0.8359 - rec: 0.6047 - val_loss: 0.1062 - val_acc: 0.4231 - val_auc: 0.4091 - val_rec: 1.0000\n",
      "Epoch 8/150\n",
      "26/26 [==============================] - ETA: 0s - loss: 0.0539 - acc: 0.7767 - auc: 0.8975 - rec: 0.6512\n",
      "Epoch 00008: val_acc did not improve from 0.42308\n",
      "26/26 [==============================] - 21s 798ms/step - loss: 0.0539 - acc: 0.7767 - auc: 0.8975 - rec: 0.6512 - val_loss: 0.1026 - val_acc: 0.4231 - val_auc: 0.4727 - val_rec: 1.0000\n",
      "Epoch 9/150\n",
      "26/26 [==============================] - ETA: 0s - loss: 0.0605 - acc: 0.7087 - auc: 0.8234 - rec: 0.5349\n",
      "Epoch 00009: val_acc did not improve from 0.42308\n",
      "26/26 [==============================] - 21s 813ms/step - loss: 0.0605 - acc: 0.7087 - auc: 0.8234 - rec: 0.5349 - val_loss: 0.1041 - val_acc: 0.4231 - val_auc: 0.3727 - val_rec: 1.0000\n",
      "Epoch 10/150\n",
      "26/26 [==============================] - ETA: 0s - loss: 0.0570 - acc: 0.6990 - auc: 0.8304 - rec: 0.4419\n",
      "Epoch 00010: val_acc did not improve from 0.42308\n",
      "26/26 [==============================] - 21s 815ms/step - loss: 0.0570 - acc: 0.6990 - auc: 0.8304 - rec: 0.4419 - val_loss: 0.1028 - val_acc: 0.4231 - val_auc: 0.3515 - val_rec: 1.0000\n",
      "Epoch 11/150\n",
      "26/26 [==============================] - ETA: 0s - loss: 0.0524 - acc: 0.7767 - auc: 0.8839 - rec: 0.6047\n",
      "Epoch 00011: val_acc did not improve from 0.42308\n",
      "26/26 [==============================] - 21s 815ms/step - loss: 0.0524 - acc: 0.7767 - auc: 0.8839 - rec: 0.6047 - val_loss: 0.1112 - val_acc: 0.4231 - val_auc: 0.4242 - val_rec: 1.0000\n",
      "Epoch 12/150\n",
      "26/26 [==============================] - ETA: 0s - loss: 0.0543 - acc: 0.6990 - auc: 0.8459 - rec: 0.4651\n",
      "Epoch 00012: val_acc did not improve from 0.42308\n",
      "26/26 [==============================] - 21s 812ms/step - loss: 0.0543 - acc: 0.6990 - auc: 0.8459 - rec: 0.4651 - val_loss: 0.1207 - val_acc: 0.4231 - val_auc: 0.5091 - val_rec: 1.0000\n",
      "Epoch 13/150\n",
      "26/26 [==============================] - ETA: 0s - loss: 0.0535 - acc: 0.7184 - auc: 0.8483 - rec: 0.6279\n",
      "Epoch 00013: val_acc did not improve from 0.42308\n",
      "26/26 [==============================] - 21s 793ms/step - loss: 0.0535 - acc: 0.7184 - auc: 0.8483 - rec: 0.6279 - val_loss: 0.1137 - val_acc: 0.4231 - val_auc: 0.4515 - val_rec: 1.0000\n",
      "Epoch 14/150\n",
      "26/26 [==============================] - ETA: 0s - loss: 0.0550 - acc: 0.6796 - auc: 0.8300 - rec: 0.4884\n",
      "Epoch 00014: val_acc did not improve from 0.42308\n",
      "26/26 [==============================] - 22s 827ms/step - loss: 0.0550 - acc: 0.6796 - auc: 0.8300 - rec: 0.4884 - val_loss: 0.1149 - val_acc: 0.4231 - val_auc: 0.5061 - val_rec: 1.0000\n",
      "Epoch 15/150\n",
      "26/26 [==============================] - ETA: 0s - loss: 0.0510 - acc: 0.7864 - auc: 0.8971 - rec: 0.6047\n",
      "Epoch 00015: val_acc did not improve from 0.42308\n",
      "26/26 [==============================] - 22s 833ms/step - loss: 0.0510 - acc: 0.7864 - auc: 0.8971 - rec: 0.6047 - val_loss: 0.1242 - val_acc: 0.4231 - val_auc: 0.7788 - val_rec: 1.0000\n",
      "Epoch 16/150\n",
      "26/26 [==============================] - ETA: 0s - loss: 0.0477 - acc: 0.7864 - auc: 0.8860 - rec: 0.6744\n",
      "Epoch 00016: val_acc improved from 0.42308 to 0.46154, saving model to chekpoint/lacune/154_lacune_batch-4_wce_relu_aug_Adam-lr_1e-5_cv3_t1_cw.h5\n",
      "26/26 [==============================] - 20s 782ms/step - loss: 0.0477 - acc: 0.7864 - auc: 0.8860 - rec: 0.6744 - val_loss: 0.1184 - val_acc: 0.4615 - val_auc: 0.6939 - val_rec: 1.0000\n",
      "Epoch 17/150\n",
      "26/26 [==============================] - ETA: 0s - loss: 0.0515 - acc: 0.7476 - auc: 0.8630 - rec: 0.5581\n",
      "Epoch 00017: val_acc did not improve from 0.46154\n",
      "26/26 [==============================] - 21s 808ms/step - loss: 0.0515 - acc: 0.7476 - auc: 0.8630 - rec: 0.5581 - val_loss: 0.1161 - val_acc: 0.4615 - val_auc: 0.7939 - val_rec: 0.9091\n",
      "Epoch 18/150\n",
      "26/26 [==============================] - ETA: 0s - loss: 0.0510 - acc: 0.7961 - auc: 0.8901 - rec: 0.6977\n",
      "Epoch 00018: val_acc improved from 0.46154 to 0.53846, saving model to chekpoint/lacune/154_lacune_batch-4_wce_relu_aug_Adam-lr_1e-5_cv3_t1_cw.h5\n",
      "26/26 [==============================] - 21s 791ms/step - loss: 0.0510 - acc: 0.7961 - auc: 0.8901 - rec: 0.6977 - val_loss: 0.1020 - val_acc: 0.5385 - val_auc: 0.7242 - val_rec: 0.9091\n",
      "Epoch 19/150\n",
      "26/26 [==============================] - ETA: 0s - loss: 0.0472 - acc: 0.7767 - auc: 0.8953 - rec: 0.5814\n",
      "Epoch 00019: val_acc improved from 0.53846 to 0.57692, saving model to chekpoint/lacune/154_lacune_batch-4_wce_relu_aug_Adam-lr_1e-5_cv3_t1_cw.h5\n",
      "26/26 [==============================] - 21s 821ms/step - loss: 0.0472 - acc: 0.7767 - auc: 0.8953 - rec: 0.5814 - val_loss: 0.0970 - val_acc: 0.5769 - val_auc: 0.7909 - val_rec: 0.9091\n",
      "Epoch 20/150\n",
      "26/26 [==============================] - ETA: 0s - loss: 0.0514 - acc: 0.7670 - auc: 0.8601 - rec: 0.6279\n",
      "Epoch 00020: val_acc did not improve from 0.57692\n",
      "26/26 [==============================] - 22s 847ms/step - loss: 0.0514 - acc: 0.7670 - auc: 0.8601 - rec: 0.6279 - val_loss: 0.0963 - val_acc: 0.5769 - val_auc: 0.8576 - val_rec: 0.9091\n",
      "Epoch 21/150\n",
      "26/26 [==============================] - ETA: 0s - loss: 0.0483 - acc: 0.7961 - auc: 0.8874 - rec: 0.6047\n",
      "Epoch 00021: val_acc improved from 0.57692 to 0.61538, saving model to chekpoint/lacune/154_lacune_batch-4_wce_relu_aug_Adam-lr_1e-5_cv3_t1_cw.h5\n",
      "26/26 [==============================] - 22s 855ms/step - loss: 0.0483 - acc: 0.7961 - auc: 0.8874 - rec: 0.6047 - val_loss: 0.0898 - val_acc: 0.6154 - val_auc: 0.8424 - val_rec: 0.9091\n",
      "Epoch 22/150\n",
      "26/26 [==============================] - ETA: 0s - loss: 0.0479 - acc: 0.7864 - auc: 0.8833 - rec: 0.6047\n",
      "Epoch 00022: val_acc improved from 0.61538 to 0.69231, saving model to chekpoint/lacune/154_lacune_batch-4_wce_relu_aug_Adam-lr_1e-5_cv3_t1_cw.h5\n",
      "26/26 [==============================] - 21s 810ms/step - loss: 0.0479 - acc: 0.7864 - auc: 0.8833 - rec: 0.6047 - val_loss: 0.0866 - val_acc: 0.6923 - val_auc: 0.8606 - val_rec: 0.9091\n"
     ]
    },
    {
     "name": "stdout",
     "output_type": "stream",
     "text": [
      "Epoch 23/150\n",
      "26/26 [==============================] - ETA: 0s - loss: 0.0548 - acc: 0.7087 - auc: 0.8269 - rec: 0.4651\n",
      "Epoch 00023: val_acc improved from 0.69231 to 0.76923, saving model to chekpoint/lacune/154_lacune_batch-4_wce_relu_aug_Adam-lr_1e-5_cv3_t1_cw.h5\n",
      "26/26 [==============================] - 21s 790ms/step - loss: 0.0548 - acc: 0.7087 - auc: 0.8269 - rec: 0.4651 - val_loss: 0.0784 - val_acc: 0.7692 - val_auc: 0.8091 - val_rec: 0.8182\n",
      "Epoch 24/150\n",
      "26/26 [==============================] - ETA: 0s - loss: 0.0470 - acc: 0.7379 - auc: 0.8828 - rec: 0.5581\n",
      "Epoch 00024: val_acc did not improve from 0.76923\n",
      "26/26 [==============================] - 22s 827ms/step - loss: 0.0470 - acc: 0.7379 - auc: 0.8828 - rec: 0.5581 - val_loss: 0.0789 - val_acc: 0.7692 - val_auc: 0.8727 - val_rec: 0.8182\n",
      "Epoch 25/150\n",
      "26/26 [==============================] - ETA: 0s - loss: 0.0483 - acc: 0.8155 - auc: 0.8940 - rec: 0.6744\n",
      "Epoch 00025: val_acc did not improve from 0.76923\n",
      "26/26 [==============================] - 21s 799ms/step - loss: 0.0483 - acc: 0.8155 - auc: 0.8940 - rec: 0.6744 - val_loss: 0.0760 - val_acc: 0.7692 - val_auc: 0.8545 - val_rec: 0.7273\n",
      "Epoch 26/150\n",
      "26/26 [==============================] - ETA: 0s - loss: 0.0504 - acc: 0.7476 - auc: 0.8667 - rec: 0.5116\n",
      "Epoch 00026: val_acc did not improve from 0.76923\n",
      "26/26 [==============================] - 21s 801ms/step - loss: 0.0504 - acc: 0.7476 - auc: 0.8667 - rec: 0.5116 - val_loss: 0.0766 - val_acc: 0.7692 - val_auc: 0.8545 - val_rec: 0.5455\n",
      "Epoch 27/150\n",
      "26/26 [==============================] - ETA: 0s - loss: 0.0503 - acc: 0.7282 - auc: 0.8531 - rec: 0.4884\n",
      "Epoch 00027: val_acc improved from 0.76923 to 0.84615, saving model to chekpoint/lacune/154_lacune_batch-4_wce_relu_aug_Adam-lr_1e-5_cv3_t1_cw.h5\n",
      "26/26 [==============================] - 21s 805ms/step - loss: 0.0503 - acc: 0.7282 - auc: 0.8531 - rec: 0.4884 - val_loss: 0.0781 - val_acc: 0.8462 - val_auc: 0.8818 - val_rec: 0.7273\n",
      "Epoch 28/150\n",
      "26/26 [==============================] - ETA: 0s - loss: 0.0465 - acc: 0.7670 - auc: 0.8901 - rec: 0.6047\n",
      "Epoch 00028: val_acc did not improve from 0.84615\n",
      "26/26 [==============================] - 21s 817ms/step - loss: 0.0465 - acc: 0.7670 - auc: 0.8901 - rec: 0.6047 - val_loss: 0.0828 - val_acc: 0.8077 - val_auc: 0.8788 - val_rec: 0.7273\n",
      "Epoch 29/150\n",
      "26/26 [==============================] - ETA: 0s - loss: 0.0464 - acc: 0.7767 - auc: 0.8876 - rec: 0.6744\n",
      "Epoch 00029: val_acc did not improve from 0.84615\n",
      "26/26 [==============================] - 21s 807ms/step - loss: 0.0464 - acc: 0.7767 - auc: 0.8876 - rec: 0.6744 - val_loss: 0.0826 - val_acc: 0.8077 - val_auc: 0.8818 - val_rec: 0.5455\n",
      "Epoch 30/150\n",
      "26/26 [==============================] - ETA: 0s - loss: 0.0514 - acc: 0.7670 - auc: 0.8548 - rec: 0.6047\n",
      "Epoch 00030: val_acc did not improve from 0.84615\n",
      "26/26 [==============================] - 21s 809ms/step - loss: 0.0514 - acc: 0.7670 - auc: 0.8548 - rec: 0.6047 - val_loss: 0.0816 - val_acc: 0.7692 - val_auc: 0.8818 - val_rec: 0.4545\n",
      "Epoch 31/150\n",
      "26/26 [==============================] - ETA: 0s - loss: 0.0520 - acc: 0.7379 - auc: 0.8566 - rec: 0.5349\n",
      "Epoch 00031: val_acc did not improve from 0.84615\n",
      "26/26 [==============================] - 20s 786ms/step - loss: 0.0520 - acc: 0.7379 - auc: 0.8566 - rec: 0.5349 - val_loss: 0.0796 - val_acc: 0.5769 - val_auc: 0.8879 - val_rec: 0.0000e+00\n",
      "Epoch 32/150\n",
      "26/26 [==============================] - ETA: 0s - loss: 0.0478 - acc: 0.7184 - auc: 0.8700 - rec: 0.4419\n",
      "Epoch 00032: val_acc did not improve from 0.84615\n",
      "26/26 [==============================] - 21s 813ms/step - loss: 0.0478 - acc: 0.7184 - auc: 0.8700 - rec: 0.4419 - val_loss: 0.0807 - val_acc: 0.5769 - val_auc: 0.8909 - val_rec: 0.0000e+00\n",
      "Epoch 33/150\n",
      "26/26 [==============================] - ETA: 0s - loss: 0.0383 - acc: 0.8447 - auc: 0.9477 - rec: 0.6744\n",
      "Epoch 00033: val_acc did not improve from 0.84615\n",
      "26/26 [==============================] - 20s 775ms/step - loss: 0.0383 - acc: 0.8447 - auc: 0.9477 - rec: 0.6744 - val_loss: 0.0853 - val_acc: 0.6923 - val_auc: 0.8909 - val_rec: 0.2727\n",
      "Epoch 34/150\n",
      "26/26 [==============================] - ETA: 0s - loss: 0.0498 - acc: 0.7282 - auc: 0.8579 - rec: 0.4419\n",
      "Epoch 00034: val_acc did not improve from 0.84615\n",
      "26/26 [==============================] - 20s 777ms/step - loss: 0.0498 - acc: 0.7282 - auc: 0.8579 - rec: 0.4419 - val_loss: 0.0903 - val_acc: 0.6923 - val_auc: 0.8848 - val_rec: 0.2727\n",
      "Epoch 35/150\n",
      "26/26 [==============================] - ETA: 0s - loss: 0.0487 - acc: 0.7961 - auc: 0.8903 - rec: 0.6512\n",
      "Epoch 00035: val_acc did not improve from 0.84615\n",
      "26/26 [==============================] - 20s 771ms/step - loss: 0.0487 - acc: 0.7961 - auc: 0.8903 - rec: 0.6512 - val_loss: 0.0930 - val_acc: 0.7308 - val_auc: 0.8848 - val_rec: 0.3636\n",
      "Epoch 36/150\n",
      "26/26 [==============================] - ETA: 0s - loss: 0.0398 - acc: 0.8058 - auc: 0.9256 - rec: 0.6977\n",
      "Epoch 00036: val_acc did not improve from 0.84615\n",
      "26/26 [==============================] - 20s 782ms/step - loss: 0.0398 - acc: 0.8058 - auc: 0.9256 - rec: 0.6977 - val_loss: 0.0936 - val_acc: 0.6923 - val_auc: 0.8909 - val_rec: 0.2727\n",
      "Epoch 37/150\n",
      "26/26 [==============================] - ETA: 0s - loss: 0.0475 - acc: 0.8252 - auc: 0.8866 - rec: 0.7209\n",
      "Epoch 00037: val_acc did not improve from 0.84615\n",
      "26/26 [==============================] - 21s 792ms/step - loss: 0.0475 - acc: 0.8252 - auc: 0.8866 - rec: 0.7209 - val_loss: 0.0954 - val_acc: 0.7308 - val_auc: 0.8848 - val_rec: 0.3636\n",
      "Epoch 38/150\n",
      "26/26 [==============================] - ETA: 0s - loss: 0.0439 - acc: 0.7573 - auc: 0.8969 - rec: 0.5581\n",
      "Epoch 00038: val_acc did not improve from 0.84615\n",
      "26/26 [==============================] - 20s 787ms/step - loss: 0.0439 - acc: 0.7573 - auc: 0.8969 - rec: 0.5581 - val_loss: 0.0965 - val_acc: 0.6923 - val_auc: 0.8848 - val_rec: 0.2727\n",
      "Epoch 39/150\n",
      "26/26 [==============================] - ETA: 0s - loss: 0.0475 - acc: 0.7961 - auc: 0.9058 - rec: 0.6279\n",
      "Epoch 00039: val_acc did not improve from 0.84615\n",
      "26/26 [==============================] - 20s 782ms/step - loss: 0.0475 - acc: 0.7961 - auc: 0.9058 - rec: 0.6279 - val_loss: 0.0943 - val_acc: 0.5769 - val_auc: 0.8879 - val_rec: 0.0000e+00\n",
      "Epoch 40/150\n",
      "26/26 [==============================] - ETA: 0s - loss: 0.0471 - acc: 0.7767 - auc: 0.8829 - rec: 0.6047\n",
      "Epoch 00040: val_acc did not improve from 0.84615\n",
      "26/26 [==============================] - 20s 779ms/step - loss: 0.0471 - acc: 0.7767 - auc: 0.8829 - rec: 0.6047 - val_loss: 0.0973 - val_acc: 0.5769 - val_auc: 0.8879 - val_rec: 0.0000e+00\n",
      "Epoch 41/150\n",
      "26/26 [==============================] - ETA: 0s - loss: 0.0417 - acc: 0.8155 - auc: 0.9198 - rec: 0.6744\n",
      "Epoch 00041: val_acc did not improve from 0.84615\n",
      "26/26 [==============================] - 20s 780ms/step - loss: 0.0417 - acc: 0.8155 - auc: 0.9198 - rec: 0.6744 - val_loss: 0.0979 - val_acc: 0.5769 - val_auc: 0.8909 - val_rec: 0.0000e+00\n",
      "Epoch 42/150\n",
      "26/26 [==============================] - ETA: 0s - loss: 0.0383 - acc: 0.8350 - auc: 0.9440 - rec: 0.6744\n",
      "Epoch 00042: val_acc did not improve from 0.84615\n",
      "26/26 [==============================] - 20s 777ms/step - loss: 0.0383 - acc: 0.8350 - auc: 0.9440 - rec: 0.6744 - val_loss: 0.1007 - val_acc: 0.5769 - val_auc: 0.8848 - val_rec: 0.0000e+00\n",
      "Epoch 43/150\n",
      "26/26 [==============================] - ETA: 0s - loss: 0.0417 - acc: 0.7961 - auc: 0.9120 - rec: 0.6512\n",
      "Epoch 00043: val_acc did not improve from 0.84615\n",
      "26/26 [==============================] - 20s 775ms/step - loss: 0.0417 - acc: 0.7961 - auc: 0.9120 - rec: 0.6512 - val_loss: 0.1051 - val_acc: 0.6923 - val_auc: 0.8879 - val_rec: 0.2727\n",
      "Epoch 44/150\n",
      "26/26 [==============================] - ETA: 0s - loss: 0.0408 - acc: 0.7767 - auc: 0.9215 - rec: 0.6047\n",
      "Epoch 00044: val_acc did not improve from 0.84615\n",
      "26/26 [==============================] - 20s 764ms/step - loss: 0.0408 - acc: 0.7767 - auc: 0.9215 - rec: 0.6047 - val_loss: 0.1069 - val_acc: 0.6538 - val_auc: 0.8939 - val_rec: 0.1818\n",
      "Epoch 45/150\n",
      "26/26 [==============================] - ETA: 0s - loss: 0.0420 - acc: 0.7767 - auc: 0.9083 - rec: 0.6047\n",
      "Epoch 00045: val_acc did not improve from 0.84615\n",
      "26/26 [==============================] - 20s 780ms/step - loss: 0.0420 - acc: 0.7767 - auc: 0.9083 - rec: 0.6047 - val_loss: 0.1066 - val_acc: 0.6923 - val_auc: 0.8939 - val_rec: 0.2727\n"
     ]
    },
    {
     "name": "stdout",
     "output_type": "stream",
     "text": [
      "Epoch 46/150\n",
      "26/26 [==============================] - ETA: 0s - loss: 0.0412 - acc: 0.7670 - auc: 0.9031 - rec: 0.6047\n",
      "Epoch 00046: val_acc did not improve from 0.84615\n",
      "26/26 [==============================] - 20s 778ms/step - loss: 0.0412 - acc: 0.7670 - auc: 0.9031 - rec: 0.6047 - val_loss: 0.1055 - val_acc: 0.6923 - val_auc: 0.8939 - val_rec: 0.2727\n",
      "Epoch 47/150\n",
      "26/26 [==============================] - ETA: 0s - loss: 0.0452 - acc: 0.7476 - auc: 0.8700 - rec: 0.6047\n",
      "Epoch 00047: val_acc did not improve from 0.84615\n",
      "26/26 [==============================] - 20s 785ms/step - loss: 0.0452 - acc: 0.7476 - auc: 0.8700 - rec: 0.6047 - val_loss: 0.1070 - val_acc: 0.6538 - val_auc: 0.8909 - val_rec: 0.1818\n",
      "Epoch 48/150\n",
      "26/26 [==============================] - ETA: 0s - loss: 0.0418 - acc: 0.7767 - auc: 0.9070 - rec: 0.5814\n",
      "Epoch 00048: val_acc did not improve from 0.84615\n",
      "26/26 [==============================] - 21s 790ms/step - loss: 0.0418 - acc: 0.7767 - auc: 0.9070 - rec: 0.5814 - val_loss: 0.1081 - val_acc: 0.5769 - val_auc: 0.8848 - val_rec: 0.0000e+00\n",
      "Epoch 49/150\n",
      "26/26 [==============================] - ETA: 0s - loss: 0.0403 - acc: 0.8155 - auc: 0.9318 - rec: 0.6512\n",
      "Epoch 00049: val_acc did not improve from 0.84615\n",
      "26/26 [==============================] - 20s 786ms/step - loss: 0.0403 - acc: 0.8155 - auc: 0.9318 - rec: 0.6512 - val_loss: 0.1089 - val_acc: 0.7308 - val_auc: 0.8939 - val_rec: 0.3636\n",
      "Epoch 50/150\n",
      "26/26 [==============================] - ETA: 0s - loss: 0.0476 - acc: 0.8058 - auc: 0.8859 - rec: 0.6744\n",
      "Epoch 00050: val_acc did not improve from 0.84615\n",
      "26/26 [==============================] - 21s 811ms/step - loss: 0.0476 - acc: 0.8058 - auc: 0.8859 - rec: 0.6744 - val_loss: 0.1072 - val_acc: 0.7308 - val_auc: 0.8909 - val_rec: 0.3636\n",
      "Epoch 51/150\n",
      "26/26 [==============================] - ETA: 0s - loss: 0.0389 - acc: 0.8252 - auc: 0.9192 - rec: 0.6977\n",
      "Epoch 00051: val_acc did not improve from 0.84615\n",
      "26/26 [==============================] - 22s 832ms/step - loss: 0.0389 - acc: 0.8252 - auc: 0.9192 - rec: 0.6977 - val_loss: 0.1144 - val_acc: 0.5769 - val_auc: 0.8848 - val_rec: 0.0000e+00\n",
      "Epoch 52/150\n",
      "26/26 [==============================] - ETA: 0s - loss: 0.0508 - acc: 0.7184 - auc: 0.8477 - rec: 0.4884\n",
      "Epoch 00052: val_acc did not improve from 0.84615\n",
      "26/26 [==============================] - 22s 842ms/step - loss: 0.0508 - acc: 0.7184 - auc: 0.8477 - rec: 0.4884 - val_loss: 0.1104 - val_acc: 0.5769 - val_auc: 0.8879 - val_rec: 0.0000e+00\n",
      "Epoch 53/150\n",
      "26/26 [==============================] - ETA: 0s - loss: 0.0403 - acc: 0.8738 - auc: 0.9248 - rec: 0.7907\n",
      "Epoch 00053: val_acc did not improve from 0.84615\n",
      "26/26 [==============================] - 21s 803ms/step - loss: 0.0403 - acc: 0.8738 - auc: 0.9248 - rec: 0.7907 - val_loss: 0.1100 - val_acc: 0.5769 - val_auc: 0.8818 - val_rec: 0.0000e+00\n",
      "Epoch 54/150\n",
      "26/26 [==============================] - ETA: 0s - loss: 0.0487 - acc: 0.7379 - auc: 0.8539 - rec: 0.5349\n",
      "Epoch 00054: val_acc did not improve from 0.84615\n",
      "26/26 [==============================] - 21s 817ms/step - loss: 0.0487 - acc: 0.7379 - auc: 0.8539 - rec: 0.5349 - val_loss: 0.1089 - val_acc: 0.6923 - val_auc: 0.8879 - val_rec: 0.2727\n",
      "Epoch 55/150\n",
      "26/26 [==============================] - ETA: 0s - loss: 0.0419 - acc: 0.7864 - auc: 0.9066 - rec: 0.6279\n",
      "Epoch 00055: val_acc did not improve from 0.84615\n",
      "26/26 [==============================] - 20s 784ms/step - loss: 0.0419 - acc: 0.7864 - auc: 0.9066 - rec: 0.6279 - val_loss: 0.1090 - val_acc: 0.6154 - val_auc: 0.8848 - val_rec: 0.0909\n",
      "Epoch 56/150\n",
      "26/26 [==============================] - ETA: 0s - loss: 0.0384 - acc: 0.8058 - auc: 0.9298 - rec: 0.6047\n",
      "Epoch 00056: val_acc did not improve from 0.84615\n",
      "26/26 [==============================] - 21s 798ms/step - loss: 0.0384 - acc: 0.8058 - auc: 0.9298 - rec: 0.6047 - val_loss: 0.1090 - val_acc: 0.7308 - val_auc: 0.8818 - val_rec: 0.3636\n",
      "Epoch 57/150\n",
      "26/26 [==============================] - ETA: 0s - loss: 0.0411 - acc: 0.7961 - auc: 0.9043 - rec: 0.6047\n",
      "Epoch 00057: val_acc did not improve from 0.84615\n",
      "26/26 [==============================] - 21s 797ms/step - loss: 0.0411 - acc: 0.7961 - auc: 0.9043 - rec: 0.6047 - val_loss: 0.1075 - val_acc: 0.7308 - val_auc: 0.8848 - val_rec: 0.3636\n",
      "Epoch 58/150\n",
      "26/26 [==============================] - ETA: 0s - loss: 0.0469 - acc: 0.7961 - auc: 0.9023 - rec: 0.6744\n",
      "Epoch 00058: val_acc did not improve from 0.84615\n",
      "26/26 [==============================] - 21s 791ms/step - loss: 0.0469 - acc: 0.7961 - auc: 0.9023 - rec: 0.6744 - val_loss: 0.1093 - val_acc: 0.5769 - val_auc: 0.8818 - val_rec: 0.0000e+00\n",
      "Epoch 59/150\n",
      "26/26 [==============================] - ETA: 0s - loss: 0.0390 - acc: 0.7961 - auc: 0.9246 - rec: 0.6047\n",
      "Epoch 00059: val_acc did not improve from 0.84615\n",
      "26/26 [==============================] - 20s 785ms/step - loss: 0.0390 - acc: 0.7961 - auc: 0.9246 - rec: 0.6047 - val_loss: 0.1053 - val_acc: 0.7308 - val_auc: 0.8818 - val_rec: 0.3636\n",
      "Epoch 60/150\n",
      "26/26 [==============================] - ETA: 0s - loss: 0.0423 - acc: 0.7864 - auc: 0.8971 - rec: 0.6512\n",
      "Epoch 00060: val_acc did not improve from 0.84615\n",
      "26/26 [==============================] - 21s 806ms/step - loss: 0.0423 - acc: 0.7864 - auc: 0.8971 - rec: 0.6512 - val_loss: 0.1073 - val_acc: 0.7308 - val_auc: 0.8818 - val_rec: 0.3636\n",
      "Epoch 61/150\n",
      "26/26 [==============================] - ETA: 0s - loss: 0.0413 - acc: 0.8350 - auc: 0.9192 - rec: 0.6744\n",
      "Epoch 00061: val_acc did not improve from 0.84615\n",
      "26/26 [==============================] - 21s 803ms/step - loss: 0.0413 - acc: 0.8350 - auc: 0.9192 - rec: 0.6744 - val_loss: 0.1111 - val_acc: 0.6923 - val_auc: 0.8848 - val_rec: 0.2727\n",
      "Epoch 62/150\n",
      "26/26 [==============================] - ETA: 0s - loss: 0.0439 - acc: 0.7864 - auc: 0.8955 - rec: 0.6279\n",
      "Epoch 00062: val_acc did not improve from 0.84615\n",
      "26/26 [==============================] - 21s 808ms/step - loss: 0.0439 - acc: 0.7864 - auc: 0.8955 - rec: 0.6279 - val_loss: 0.1120 - val_acc: 0.5769 - val_auc: 0.8818 - val_rec: 0.0000e+00\n",
      "Epoch 63/150\n",
      "26/26 [==============================] - ETA: 0s - loss: 0.0424 - acc: 0.7961 - auc: 0.9103 - rec: 0.6279\n",
      "Epoch 00063: val_acc did not improve from 0.84615\n",
      "26/26 [==============================] - 22s 828ms/step - loss: 0.0424 - acc: 0.7961 - auc: 0.9103 - rec: 0.6279 - val_loss: 0.1085 - val_acc: 0.5769 - val_auc: 0.8758 - val_rec: 0.0000e+00\n",
      "Epoch 64/150\n",
      "26/26 [==============================] - ETA: 0s - loss: 0.0355 - acc: 0.8058 - auc: 0.9465 - rec: 0.6279\n",
      "Epoch 00064: val_acc did not improve from 0.84615\n",
      "26/26 [==============================] - 21s 794ms/step - loss: 0.0355 - acc: 0.8058 - auc: 0.9465 - rec: 0.6279 - val_loss: 0.1071 - val_acc: 0.7308 - val_auc: 0.8818 - val_rec: 0.3636\n",
      "Epoch 65/150\n",
      "26/26 [==============================] - ETA: 0s - loss: 0.0385 - acc: 0.8155 - auc: 0.9248 - rec: 0.6279\n",
      "Epoch 00065: val_acc did not improve from 0.84615\n",
      "26/26 [==============================] - 20s 776ms/step - loss: 0.0385 - acc: 0.8155 - auc: 0.9248 - rec: 0.6279 - val_loss: 0.1061 - val_acc: 0.7308 - val_auc: 0.8818 - val_rec: 0.3636\n",
      "Epoch 66/150\n",
      "26/26 [==============================] - ETA: 0s - loss: 0.0501 - acc: 0.7961 - auc: 0.8785 - rec: 0.7442\n",
      "Epoch 00066: val_acc did not improve from 0.84615\n",
      "26/26 [==============================] - 20s 781ms/step - loss: 0.0501 - acc: 0.7961 - auc: 0.8785 - rec: 0.7442 - val_loss: 0.1100 - val_acc: 0.5769 - val_auc: 0.8818 - val_rec: 0.0000e+00\n",
      "Epoch 67/150\n",
      "26/26 [==============================] - ETA: 0s - loss: 0.0344 - acc: 0.8544 - auc: 0.9469 - rec: 0.7674\n",
      "Epoch 00067: val_acc did not improve from 0.84615\n",
      "26/26 [==============================] - 21s 815ms/step - loss: 0.0344 - acc: 0.8544 - auc: 0.9469 - rec: 0.7674 - val_loss: 0.1043 - val_acc: 0.6923 - val_auc: 0.8758 - val_rec: 0.2727\n",
      "Epoch 68/150\n",
      "26/26 [==============================] - ETA: 0s - loss: 0.0344 - acc: 0.8350 - auc: 0.9624 - rec: 0.6977\n",
      "Epoch 00068: val_acc did not improve from 0.84615\n",
      "26/26 [==============================] - 21s 814ms/step - loss: 0.0344 - acc: 0.8350 - auc: 0.9624 - rec: 0.6977 - val_loss: 0.1068 - val_acc: 0.7308 - val_auc: 0.8848 - val_rec: 0.3636\n"
     ]
    },
    {
     "name": "stdout",
     "output_type": "stream",
     "text": [
      "Epoch 69/150\n",
      "26/26 [==============================] - ETA: 0s - loss: 0.0394 - acc: 0.7670 - auc: 0.9151 - rec: 0.6279\n",
      "Epoch 00069: val_acc did not improve from 0.84615\n",
      "26/26 [==============================] - 20s 783ms/step - loss: 0.0394 - acc: 0.7670 - auc: 0.9151 - rec: 0.6279 - val_loss: 0.1040 - val_acc: 0.7308 - val_auc: 0.8848 - val_rec: 0.3636\n",
      "Epoch 70/150\n",
      "26/26 [==============================] - ETA: 0s - loss: 0.0378 - acc: 0.8350 - auc: 0.9273 - rec: 0.6744\n",
      "Epoch 00070: val_acc did not improve from 0.84615\n",
      "26/26 [==============================] - 20s 783ms/step - loss: 0.0378 - acc: 0.8350 - auc: 0.9273 - rec: 0.6744 - val_loss: 0.1081 - val_acc: 0.6923 - val_auc: 0.8818 - val_rec: 0.2727\n",
      "Epoch 71/150\n",
      "26/26 [==============================] - ETA: 0s - loss: 0.0354 - acc: 0.8544 - auc: 0.9384 - rec: 0.7442\n",
      "Epoch 00071: val_acc did not improve from 0.84615\n",
      "26/26 [==============================] - 20s 772ms/step - loss: 0.0354 - acc: 0.8544 - auc: 0.9384 - rec: 0.7442 - val_loss: 0.1078 - val_acc: 0.7308 - val_auc: 0.8879 - val_rec: 0.3636\n",
      "Epoch 72/150\n",
      "26/26 [==============================] - ETA: 0s - loss: 0.0451 - acc: 0.7864 - auc: 0.8899 - rec: 0.6047\n",
      "Epoch 00072: val_acc did not improve from 0.84615\n",
      "26/26 [==============================] - 20s 780ms/step - loss: 0.0451 - acc: 0.7864 - auc: 0.8899 - rec: 0.6047 - val_loss: 0.1173 - val_acc: 0.5769 - val_auc: 0.8909 - val_rec: 0.0000e+00\n",
      "Epoch 73/150\n",
      "26/26 [==============================] - ETA: 0s - loss: 0.0400 - acc: 0.8155 - auc: 0.9079 - rec: 0.6744\n",
      "Epoch 00073: val_acc did not improve from 0.84615\n",
      "26/26 [==============================] - 21s 795ms/step - loss: 0.0400 - acc: 0.8155 - auc: 0.9079 - rec: 0.6744 - val_loss: 0.1152 - val_acc: 0.5769 - val_auc: 0.8788 - val_rec: 0.0000e+00\n",
      "Epoch 74/150\n",
      "26/26 [==============================] - ETA: 0s - loss: 0.0404 - acc: 0.7670 - auc: 0.9174 - rec: 0.5349\n",
      "Epoch 00074: val_acc did not improve from 0.84615\n",
      "26/26 [==============================] - 20s 773ms/step - loss: 0.0404 - acc: 0.7670 - auc: 0.9174 - rec: 0.5349 - val_loss: 0.1045 - val_acc: 0.5769 - val_auc: 0.8788 - val_rec: 0.0000e+00\n",
      "Epoch 75/150\n",
      "26/26 [==============================] - ETA: 0s - loss: 0.0462 - acc: 0.7476 - auc: 0.8806 - rec: 0.5349\n",
      "Epoch 00075: val_acc did not improve from 0.84615\n",
      "26/26 [==============================] - 20s 763ms/step - loss: 0.0462 - acc: 0.7476 - auc: 0.8806 - rec: 0.5349 - val_loss: 0.1084 - val_acc: 0.5769 - val_auc: 0.8788 - val_rec: 0.0000e+00\n",
      "Epoch 76/150\n",
      "26/26 [==============================] - ETA: 0s - loss: 0.0394 - acc: 0.7864 - auc: 0.9198 - rec: 0.5814\n",
      "Epoch 00076: val_acc did not improve from 0.84615\n",
      "26/26 [==============================] - 21s 793ms/step - loss: 0.0394 - acc: 0.7864 - auc: 0.9198 - rec: 0.5814 - val_loss: 0.1115 - val_acc: 0.5769 - val_auc: 0.8818 - val_rec: 0.0000e+00\n",
      "Epoch 77/150\n",
      "26/26 [==============================] - ETA: 0s - loss: 0.0431 - acc: 0.7961 - auc: 0.9012 - rec: 0.5814\n",
      "Epoch 00077: val_acc did not improve from 0.84615\n",
      "26/26 [==============================] - 21s 789ms/step - loss: 0.0431 - acc: 0.7961 - auc: 0.9012 - rec: 0.5814 - val_loss: 0.1121 - val_acc: 0.5769 - val_auc: 0.8788 - val_rec: 0.0000e+00\n",
      "Epoch 78/150\n",
      "26/26 [==============================] - ETA: 0s - loss: 0.0426 - acc: 0.7670 - auc: 0.9016 - rec: 0.5814\n",
      "Epoch 00078: val_acc did not improve from 0.84615\n",
      "26/26 [==============================] - 20s 787ms/step - loss: 0.0426 - acc: 0.7670 - auc: 0.9016 - rec: 0.5814 - val_loss: 0.1048 - val_acc: 0.7308 - val_auc: 0.8758 - val_rec: 0.3636\n",
      "Epoch 79/150\n",
      "26/26 [==============================] - ETA: 0s - loss: 0.0376 - acc: 0.8350 - auc: 0.9308 - rec: 0.7442\n",
      "Epoch 00079: val_acc did not improve from 0.84615\n",
      "26/26 [==============================] - 20s 767ms/step - loss: 0.0376 - acc: 0.8350 - auc: 0.9308 - rec: 0.7442 - val_loss: 0.1067 - val_acc: 0.6154 - val_auc: 0.8758 - val_rec: 0.0909\n",
      "Epoch 80/150\n",
      "26/26 [==============================] - ETA: 0s - loss: 0.0365 - acc: 0.8155 - auc: 0.9312 - rec: 0.6744\n",
      "Epoch 00080: val_acc did not improve from 0.84615\n",
      "26/26 [==============================] - 21s 811ms/step - loss: 0.0365 - acc: 0.8155 - auc: 0.9312 - rec: 0.6744 - val_loss: 0.1070 - val_acc: 0.5769 - val_auc: 0.8788 - val_rec: 0.0000e+00\n",
      "Epoch 81/150\n",
      "26/26 [==============================] - ETA: 0s - loss: 0.0408 - acc: 0.7864 - auc: 0.9151 - rec: 0.5814\n",
      "Epoch 00081: val_acc did not improve from 0.84615\n",
      "26/26 [==============================] - 21s 795ms/step - loss: 0.0408 - acc: 0.7864 - auc: 0.9151 - rec: 0.5814 - val_loss: 0.1121 - val_acc: 0.5769 - val_auc: 0.8788 - val_rec: 0.0000e+00\n",
      "Epoch 82/150\n",
      "26/26 [==============================] - ETA: 0s - loss: 0.0367 - acc: 0.8738 - auc: 0.9376 - rec: 0.7674\n",
      "Epoch 00082: val_acc did not improve from 0.84615\n",
      "26/26 [==============================] - 21s 804ms/step - loss: 0.0367 - acc: 0.8738 - auc: 0.9376 - rec: 0.7674 - val_loss: 0.1088 - val_acc: 0.6923 - val_auc: 0.8758 - val_rec: 0.2727\n",
      "Epoch 83/150\n",
      "26/26 [==============================] - ETA: 0s - loss: 0.0370 - acc: 0.8155 - auc: 0.9395 - rec: 0.6977\n",
      "Epoch 00083: val_acc did not improve from 0.84615\n",
      "26/26 [==============================] - 22s 831ms/step - loss: 0.0370 - acc: 0.8155 - auc: 0.9395 - rec: 0.6977 - val_loss: 0.1048 - val_acc: 0.8077 - val_auc: 0.8758 - val_rec: 0.5455\n",
      "Epoch 84/150\n",
      "26/26 [==============================] - ETA: 0s - loss: 0.0443 - acc: 0.8058 - auc: 0.9072 - rec: 0.7209\n",
      "Epoch 00084: val_acc did not improve from 0.84615\n",
      "26/26 [==============================] - 21s 806ms/step - loss: 0.0443 - acc: 0.8058 - auc: 0.9072 - rec: 0.7209 - val_loss: 0.1118 - val_acc: 0.5769 - val_auc: 0.8788 - val_rec: 0.0000e+00\n",
      "Epoch 85/150\n",
      "26/26 [==============================] - ETA: 0s - loss: 0.0356 - acc: 0.8641 - auc: 0.9484 - rec: 0.6977\n",
      "Epoch 00085: val_acc did not improve from 0.84615\n",
      "26/26 [==============================] - 21s 821ms/step - loss: 0.0356 - acc: 0.8641 - auc: 0.9484 - rec: 0.6977 - val_loss: 0.1181 - val_acc: 0.5769 - val_auc: 0.8848 - val_rec: 0.0000e+00\n",
      "Epoch 86/150\n",
      "26/26 [==============================] - ETA: 0s - loss: 0.0373 - acc: 0.7961 - auc: 0.9269 - rec: 0.6512\n",
      "Epoch 00086: val_acc did not improve from 0.84615\n",
      "26/26 [==============================] - 21s 801ms/step - loss: 0.0373 - acc: 0.7961 - auc: 0.9269 - rec: 0.6512 - val_loss: 0.1270 - val_acc: 0.5769 - val_auc: 0.8818 - val_rec: 0.0000e+00\n",
      "Epoch 87/150\n",
      "26/26 [==============================] - ETA: 0s - loss: 0.0415 - acc: 0.7379 - auc: 0.9037 - rec: 0.5116\n",
      "Epoch 00087: val_acc did not improve from 0.84615\n",
      "26/26 [==============================] - 21s 791ms/step - loss: 0.0415 - acc: 0.7379 - auc: 0.9037 - rec: 0.5116 - val_loss: 0.1116 - val_acc: 0.7308 - val_auc: 0.8758 - val_rec: 0.3636\n",
      "Epoch 88/150\n",
      "26/26 [==============================] - ETA: 0s - loss: 0.0423 - acc: 0.7864 - auc: 0.9025 - rec: 0.6279\n",
      "Epoch 00088: val_acc did not improve from 0.84615\n",
      "26/26 [==============================] - 20s 785ms/step - loss: 0.0423 - acc: 0.7864 - auc: 0.9025 - rec: 0.6279 - val_loss: 0.1114 - val_acc: 0.7692 - val_auc: 0.8758 - val_rec: 0.4545\n",
      "Epoch 89/150\n",
      "26/26 [==============================] - ETA: 0s - loss: 0.0387 - acc: 0.8058 - auc: 0.9281 - rec: 0.6512\n",
      "Epoch 00089: val_acc did not improve from 0.84615\n",
      "26/26 [==============================] - 20s 770ms/step - loss: 0.0387 - acc: 0.8058 - auc: 0.9281 - rec: 0.6512 - val_loss: 0.1107 - val_acc: 0.7308 - val_auc: 0.8758 - val_rec: 0.3636\n",
      "Epoch 90/150\n",
      "26/26 [==============================] - ETA: 0s - loss: 0.0395 - acc: 0.8544 - auc: 0.9161 - rec: 0.7442\n",
      "Epoch 00090: val_acc did not improve from 0.84615\n",
      "26/26 [==============================] - 21s 814ms/step - loss: 0.0395 - acc: 0.8544 - auc: 0.9161 - rec: 0.7442 - val_loss: 0.1086 - val_acc: 0.7308 - val_auc: 0.8788 - val_rec: 0.3636\n",
      "Epoch 91/150\n",
      "26/26 [==============================] - ETA: 0s - loss: 0.0475 - acc: 0.7767 - auc: 0.8866 - rec: 0.6047\n",
      "Epoch 00091: val_acc did not improve from 0.84615\n",
      "26/26 [==============================] - 21s 794ms/step - loss: 0.0475 - acc: 0.7767 - auc: 0.8866 - rec: 0.6047 - val_loss: 0.1092 - val_acc: 0.6538 - val_auc: 0.8788 - val_rec: 0.1818\n"
     ]
    },
    {
     "name": "stdout",
     "output_type": "stream",
     "text": [
      "Epoch 92/150\n",
      "26/26 [==============================] - ETA: 0s - loss: 0.0376 - acc: 0.8155 - auc: 0.9306 - rec: 0.6279\n",
      "Epoch 00092: val_acc did not improve from 0.84615\n",
      "26/26 [==============================] - 20s 784ms/step - loss: 0.0376 - acc: 0.8155 - auc: 0.9306 - rec: 0.6279 - val_loss: 0.1066 - val_acc: 0.8462 - val_auc: 0.8788 - val_rec: 0.6364\n",
      "Epoch 93/150\n",
      "26/26 [==============================] - ETA: 0s - loss: 0.0462 - acc: 0.8058 - auc: 0.8930 - rec: 0.6744\n",
      "Epoch 00093: val_acc did not improve from 0.84615\n",
      "26/26 [==============================] - 21s 820ms/step - loss: 0.0462 - acc: 0.8058 - auc: 0.8930 - rec: 0.6744 - val_loss: 0.1078 - val_acc: 0.8462 - val_auc: 0.8788 - val_rec: 0.6364\n",
      "Epoch 94/150\n",
      "26/26 [==============================] - ETA: 0s - loss: 0.0386 - acc: 0.8641 - auc: 0.9374 - rec: 0.7442\n",
      "Epoch 00094: val_acc did not improve from 0.84615\n",
      "26/26 [==============================] - 20s 787ms/step - loss: 0.0386 - acc: 0.8641 - auc: 0.9374 - rec: 0.7442 - val_loss: 0.1029 - val_acc: 0.6923 - val_auc: 0.8788 - val_rec: 0.2727\n",
      "Epoch 95/150\n",
      "26/26 [==============================] - ETA: 0s - loss: 0.0378 - acc: 0.8350 - auc: 0.9252 - rec: 0.6977\n",
      "Epoch 00095: val_acc did not improve from 0.84615\n",
      "26/26 [==============================] - 21s 794ms/step - loss: 0.0378 - acc: 0.8350 - auc: 0.9252 - rec: 0.6977 - val_loss: 0.1038 - val_acc: 0.6538 - val_auc: 0.8788 - val_rec: 0.1818\n",
      "Epoch 96/150\n",
      "26/26 [==============================] - ETA: 0s - loss: 0.0412 - acc: 0.7961 - auc: 0.9209 - rec: 0.5581\n",
      "Epoch 00096: val_acc did not improve from 0.84615\n",
      "26/26 [==============================] - 20s 782ms/step - loss: 0.0412 - acc: 0.7961 - auc: 0.9209 - rec: 0.5581 - val_loss: 0.1023 - val_acc: 0.7308 - val_auc: 0.8758 - val_rec: 0.3636\n",
      "Epoch 97/150\n",
      "26/26 [==============================] - ETA: 0s - loss: 0.0369 - acc: 0.8641 - auc: 0.9440 - rec: 0.7907\n",
      "Epoch 00097: val_acc did not improve from 0.84615\n",
      "26/26 [==============================] - 21s 803ms/step - loss: 0.0369 - acc: 0.8641 - auc: 0.9440 - rec: 0.7907 - val_loss: 0.1030 - val_acc: 0.8077 - val_auc: 0.8788 - val_rec: 0.5455\n",
      "Epoch 98/150\n",
      "26/26 [==============================] - ETA: 0s - loss: 0.0395 - acc: 0.7961 - auc: 0.9219 - rec: 0.6047\n",
      "Epoch 00098: val_acc did not improve from 0.84615\n",
      "26/26 [==============================] - 21s 811ms/step - loss: 0.0395 - acc: 0.7961 - auc: 0.9219 - rec: 0.6047 - val_loss: 0.1010 - val_acc: 0.7308 - val_auc: 0.8788 - val_rec: 0.3636\n",
      "Epoch 99/150\n",
      "26/26 [==============================] - ETA: 0s - loss: 0.0459 - acc: 0.7767 - auc: 0.8874 - rec: 0.6047\n",
      "Epoch 00099: val_acc did not improve from 0.84615\n",
      "26/26 [==============================] - 20s 773ms/step - loss: 0.0459 - acc: 0.7767 - auc: 0.8874 - rec: 0.6047 - val_loss: 0.0984 - val_acc: 0.7692 - val_auc: 0.8727 - val_rec: 0.4545\n",
      "Epoch 100/150\n",
      "26/26 [==============================] - ETA: 0s - loss: 0.0353 - acc: 0.8058 - auc: 0.9388 - rec: 0.6744\n",
      "Epoch 00100: val_acc did not improve from 0.84615\n",
      "26/26 [==============================] - 20s 785ms/step - loss: 0.0353 - acc: 0.8058 - auc: 0.9388 - rec: 0.6744 - val_loss: 0.1090 - val_acc: 0.5769 - val_auc: 0.8667 - val_rec: 0.0000e+00\n",
      "Epoch 101/150\n",
      "26/26 [==============================] - ETA: 0s - loss: 0.0374 - acc: 0.8252 - auc: 0.9442 - rec: 0.6047\n",
      "Epoch 00101: val_acc did not improve from 0.84615\n",
      "26/26 [==============================] - 20s 786ms/step - loss: 0.0374 - acc: 0.8252 - auc: 0.9442 - rec: 0.6047 - val_loss: 0.0979 - val_acc: 0.7308 - val_auc: 0.8788 - val_rec: 0.3636\n",
      "Epoch 102/150\n",
      "26/26 [==============================] - ETA: 0s - loss: 0.0404 - acc: 0.8155 - auc: 0.9048 - rec: 0.7209\n",
      "Epoch 00102: val_acc did not improve from 0.84615\n",
      "26/26 [==============================] - 21s 805ms/step - loss: 0.0404 - acc: 0.8155 - auc: 0.9048 - rec: 0.7209 - val_loss: 0.1016 - val_acc: 0.8462 - val_auc: 0.8788 - val_rec: 0.6364\n",
      "Epoch 103/150\n",
      "26/26 [==============================] - ETA: 0s - loss: 0.0346 - acc: 0.8350 - auc: 0.9484 - rec: 0.6744\n",
      "Epoch 00103: val_acc did not improve from 0.84615\n",
      "26/26 [==============================] - 20s 783ms/step - loss: 0.0346 - acc: 0.8350 - auc: 0.9484 - rec: 0.6744 - val_loss: 0.1042 - val_acc: 0.7308 - val_auc: 0.8727 - val_rec: 0.3636\n",
      "Epoch 104/150\n",
      "26/26 [==============================] - ETA: 0s - loss: 0.0424 - acc: 0.7961 - auc: 0.9039 - rec: 0.6279\n",
      "Epoch 00104: val_acc did not improve from 0.84615\n",
      "26/26 [==============================] - 20s 786ms/step - loss: 0.0424 - acc: 0.7961 - auc: 0.9039 - rec: 0.6279 - val_loss: 0.1087 - val_acc: 0.6154 - val_auc: 0.8667 - val_rec: 0.0909\n",
      "Epoch 105/150\n",
      "26/26 [==============================] - ETA: 0s - loss: 0.0378 - acc: 0.8252 - auc: 0.9347 - rec: 0.6512\n",
      "Epoch 00105: val_acc did not improve from 0.84615\n",
      "26/26 [==============================] - 20s 778ms/step - loss: 0.0378 - acc: 0.8252 - auc: 0.9347 - rec: 0.6512 - val_loss: 0.1309 - val_acc: 0.5769 - val_auc: 0.8576 - val_rec: 0.0000e+00\n",
      "Epoch 106/150\n",
      "26/26 [==============================] - ETA: 0s - loss: 0.0444 - acc: 0.7767 - auc: 0.8928 - rec: 0.6047\n",
      "Epoch 00106: val_acc did not improve from 0.84615\n",
      "26/26 [==============================] - 20s 785ms/step - loss: 0.0444 - acc: 0.7767 - auc: 0.8928 - rec: 0.6047 - val_loss: 0.1347 - val_acc: 0.5769 - val_auc: 0.8606 - val_rec: 0.0000e+00\n",
      "Epoch 107/150\n",
      "26/26 [==============================] - ETA: 0s - loss: 0.0378 - acc: 0.8447 - auc: 0.9295 - rec: 0.7209\n",
      "Epoch 00107: val_acc did not improve from 0.84615\n",
      "26/26 [==============================] - 21s 789ms/step - loss: 0.0378 - acc: 0.8447 - auc: 0.9295 - rec: 0.7209 - val_loss: 0.1031 - val_acc: 0.7308 - val_auc: 0.8667 - val_rec: 0.3636\n",
      "Epoch 108/150\n",
      "26/26 [==============================] - ETA: 0s - loss: 0.0368 - acc: 0.8641 - auc: 0.9407 - rec: 0.7907\n",
      "Epoch 00108: val_acc did not improve from 0.84615\n",
      "26/26 [==============================] - 21s 804ms/step - loss: 0.0368 - acc: 0.8641 - auc: 0.9407 - rec: 0.7907 - val_loss: 0.0967 - val_acc: 0.8077 - val_auc: 0.8667 - val_rec: 0.5455\n",
      "Epoch 109/150\n",
      "26/26 [==============================] - ETA: 0s - loss: 0.0417 - acc: 0.7864 - auc: 0.9054 - rec: 0.5814\n",
      "Epoch 00109: val_acc did not improve from 0.84615\n",
      "26/26 [==============================] - 21s 806ms/step - loss: 0.0417 - acc: 0.7864 - auc: 0.9054 - rec: 0.5814 - val_loss: 0.1226 - val_acc: 0.5769 - val_auc: 0.8667 - val_rec: 0.0000e+00\n",
      "Epoch 110/150\n",
      "26/26 [==============================] - ETA: 0s - loss: 0.0354 - acc: 0.8252 - auc: 0.9438 - rec: 0.6744\n",
      "Epoch 00110: val_acc did not improve from 0.84615\n",
      "26/26 [==============================] - 22s 830ms/step - loss: 0.0354 - acc: 0.8252 - auc: 0.9438 - rec: 0.6744 - val_loss: 0.1178 - val_acc: 0.5769 - val_auc: 0.8788 - val_rec: 0.0000e+00\n",
      "Epoch 111/150\n",
      "26/26 [==============================] - ETA: 0s - loss: 0.0394 - acc: 0.7864 - auc: 0.9209 - rec: 0.5814\n",
      "Epoch 00111: val_acc did not improve from 0.84615\n",
      "26/26 [==============================] - 20s 786ms/step - loss: 0.0394 - acc: 0.7864 - auc: 0.9209 - rec: 0.5814 - val_loss: 0.1186 - val_acc: 0.5769 - val_auc: 0.8606 - val_rec: 0.0000e+00\n",
      "Epoch 112/150\n",
      "26/26 [==============================] - ETA: 0s - loss: 0.0362 - acc: 0.8641 - auc: 0.9430 - rec: 0.7209\n",
      "Epoch 00112: val_acc improved from 0.84615 to 0.88462, saving model to chekpoint/lacune/154_lacune_batch-4_wce_relu_aug_Adam-lr_1e-5_cv3_t1_cw.h5\n",
      "26/26 [==============================] - 22s 830ms/step - loss: 0.0362 - acc: 0.8641 - auc: 0.9430 - rec: 0.7209 - val_loss: 0.1057 - val_acc: 0.8846 - val_auc: 0.8788 - val_rec: 0.7273\n",
      "Epoch 113/150\n",
      "26/26 [==============================] - ETA: 0s - loss: 0.0411 - acc: 0.8252 - auc: 0.9124 - rec: 0.6744\n",
      "Epoch 00113: val_acc did not improve from 0.88462\n",
      "26/26 [==============================] - 21s 795ms/step - loss: 0.0411 - acc: 0.8252 - auc: 0.9124 - rec: 0.6744 - val_loss: 0.1185 - val_acc: 0.5769 - val_auc: 0.8636 - val_rec: 0.0000e+00\n",
      "Epoch 114/150\n",
      "26/26 [==============================] - ETA: 0s - loss: 0.0490 - acc: 0.6699 - auc: 0.8467 - rec: 0.4419\n",
      "Epoch 00114: val_acc did not improve from 0.88462\n",
      "26/26 [==============================] - 21s 810ms/step - loss: 0.0490 - acc: 0.6699 - auc: 0.8467 - rec: 0.4419 - val_loss: 0.1249 - val_acc: 0.5769 - val_auc: 0.8515 - val_rec: 0.0000e+00\n"
     ]
    },
    {
     "name": "stdout",
     "output_type": "stream",
     "text": [
      "Epoch 115/150\n",
      "26/26 [==============================] - ETA: 0s - loss: 0.0326 - acc: 0.8252 - auc: 0.9560 - rec: 0.6512\n",
      "Epoch 00115: val_acc did not improve from 0.88462\n",
      "26/26 [==============================] - 21s 796ms/step - loss: 0.0326 - acc: 0.8252 - auc: 0.9560 - rec: 0.6512 - val_loss: 0.1026 - val_acc: 0.8077 - val_auc: 0.8697 - val_rec: 0.5455\n",
      "Epoch 116/150\n",
      "26/26 [==============================] - ETA: 0s - loss: 0.0355 - acc: 0.8835 - auc: 0.9432 - rec: 0.7674\n",
      "Epoch 00116: val_acc did not improve from 0.88462\n",
      "26/26 [==============================] - 21s 804ms/step - loss: 0.0355 - acc: 0.8835 - auc: 0.9432 - rec: 0.7674 - val_loss: 0.1046 - val_acc: 0.8462 - val_auc: 0.8758 - val_rec: 0.7273\n",
      "Epoch 117/150\n",
      "26/26 [==============================] - ETA: 0s - loss: 0.0410 - acc: 0.7282 - auc: 0.8986 - rec: 0.5116\n",
      "Epoch 00117: val_acc did not improve from 0.88462\n",
      "26/26 [==============================] - 21s 790ms/step - loss: 0.0410 - acc: 0.7282 - auc: 0.8986 - rec: 0.5116 - val_loss: 0.1045 - val_acc: 0.8462 - val_auc: 0.8667 - val_rec: 0.7273\n",
      "Epoch 118/150\n",
      "26/26 [==============================] - ETA: 0s - loss: 0.0397 - acc: 0.8738 - auc: 0.9221 - rec: 0.8372\n",
      "Epoch 00118: val_acc did not improve from 0.88462\n",
      "26/26 [==============================] - 20s 788ms/step - loss: 0.0397 - acc: 0.8738 - auc: 0.9221 - rec: 0.8372 - val_loss: 0.1085 - val_acc: 0.8077 - val_auc: 0.8667 - val_rec: 0.7273\n",
      "Epoch 119/150\n",
      "26/26 [==============================] - ETA: 0s - loss: 0.0305 - acc: 0.9223 - auc: 0.9663 - rec: 0.8605\n",
      "Epoch 00119: val_acc did not improve from 0.88462\n",
      "26/26 [==============================] - 21s 795ms/step - loss: 0.0305 - acc: 0.9223 - auc: 0.9663 - rec: 0.8605 - val_loss: 0.1026 - val_acc: 0.8077 - val_auc: 0.8667 - val_rec: 0.5455\n",
      "Epoch 120/150\n",
      "26/26 [==============================] - ETA: 0s - loss: 0.0427 - acc: 0.7670 - auc: 0.9027 - rec: 0.5349\n",
      "Epoch 00120: val_acc did not improve from 0.88462\n",
      "26/26 [==============================] - 21s 797ms/step - loss: 0.0427 - acc: 0.7670 - auc: 0.9027 - rec: 0.5349 - val_loss: 0.1224 - val_acc: 0.5769 - val_auc: 0.8424 - val_rec: 0.0000e+00\n",
      "Epoch 121/150\n",
      "26/26 [==============================] - ETA: 0s - loss: 0.0365 - acc: 0.7961 - auc: 0.9382 - rec: 0.5814\n",
      "Epoch 00121: val_acc did not improve from 0.88462\n",
      "26/26 [==============================] - 20s 786ms/step - loss: 0.0365 - acc: 0.7961 - auc: 0.9382 - rec: 0.5814 - val_loss: 0.1095 - val_acc: 0.6923 - val_auc: 0.8545 - val_rec: 0.2727\n",
      "Epoch 122/150\n",
      "26/26 [==============================] - ETA: 0s - loss: 0.0356 - acc: 0.8350 - auc: 0.9345 - rec: 0.7209\n",
      "Epoch 00122: val_acc did not improve from 0.88462\n",
      "26/26 [==============================] - 20s 773ms/step - loss: 0.0356 - acc: 0.8350 - auc: 0.9345 - rec: 0.7209 - val_loss: 0.1209 - val_acc: 0.6154 - val_auc: 0.8636 - val_rec: 0.0909\n",
      "Epoch 123/150\n",
      "26/26 [==============================] - ETA: 0s - loss: 0.0403 - acc: 0.7961 - auc: 0.9124 - rec: 0.6512\n",
      "Epoch 00123: val_acc did not improve from 0.88462\n",
      "26/26 [==============================] - 21s 797ms/step - loss: 0.0403 - acc: 0.7961 - auc: 0.9124 - rec: 0.6512 - val_loss: 0.1492 - val_acc: 0.5769 - val_auc: 0.8424 - val_rec: 0.0000e+00\n",
      "Epoch 124/150\n",
      "26/26 [==============================] - ETA: 0s - loss: 0.0361 - acc: 0.7670 - auc: 0.9401 - rec: 0.5116\n",
      "Epoch 00124: val_acc did not improve from 0.88462\n",
      "26/26 [==============================] - 21s 804ms/step - loss: 0.0361 - acc: 0.7670 - auc: 0.9401 - rec: 0.5116 - val_loss: 0.1241 - val_acc: 0.5769 - val_auc: 0.8455 - val_rec: 0.0000e+00\n",
      "Epoch 125/150\n",
      "26/26 [==============================] - ETA: 0s - loss: 0.0333 - acc: 0.8835 - auc: 0.9568 - rec: 0.7674\n",
      "Epoch 00125: val_acc did not improve from 0.88462\n",
      "26/26 [==============================] - 21s 798ms/step - loss: 0.0333 - acc: 0.8835 - auc: 0.9568 - rec: 0.7674 - val_loss: 0.1102 - val_acc: 0.8462 - val_auc: 0.8788 - val_rec: 0.7273\n",
      "Epoch 126/150\n",
      "26/26 [==============================] - ETA: 0s - loss: 0.0325 - acc: 0.8155 - auc: 0.9432 - rec: 0.7209\n",
      "Epoch 00126: val_acc did not improve from 0.88462\n",
      "26/26 [==============================] - 20s 783ms/step - loss: 0.0325 - acc: 0.8155 - auc: 0.9432 - rec: 0.7209 - val_loss: 0.1118 - val_acc: 0.8462 - val_auc: 0.8848 - val_rec: 0.6364\n",
      "Epoch 127/150\n",
      "26/26 [==============================] - ETA: 0s - loss: 0.0354 - acc: 0.8835 - auc: 0.9438 - rec: 0.8140\n",
      "Epoch 00127: val_acc did not improve from 0.88462\n",
      "26/26 [==============================] - 21s 795ms/step - loss: 0.0354 - acc: 0.8835 - auc: 0.9438 - rec: 0.8140 - val_loss: 0.1089 - val_acc: 0.7308 - val_auc: 0.8636 - val_rec: 0.3636\n",
      "Epoch 128/150\n",
      "26/26 [==============================] - ETA: 0s - loss: 0.0306 - acc: 0.9126 - auc: 0.9663 - rec: 0.8372\n",
      "Epoch 00128: val_acc did not improve from 0.88462\n",
      "26/26 [==============================] - 30s 1s/step - loss: 0.0306 - acc: 0.9126 - auc: 0.9663 - rec: 0.8372 - val_loss: 0.1113 - val_acc: 0.6923 - val_auc: 0.8576 - val_rec: 0.2727\n",
      "Epoch 129/150\n",
      "26/26 [==============================] - ETA: 0s - loss: 0.0412 - acc: 0.7476 - auc: 0.9031 - rec: 0.5581\n",
      "Epoch 00129: val_acc did not improve from 0.88462\n",
      "26/26 [==============================] - 36s 1s/step - loss: 0.0412 - acc: 0.7476 - auc: 0.9031 - rec: 0.5581 - val_loss: 0.1349 - val_acc: 0.5769 - val_auc: 0.8515 - val_rec: 0.0000e+00\n",
      "Epoch 130/150\n",
      "26/26 [==============================] - ETA: 0s - loss: 0.0413 - acc: 0.7476 - auc: 0.9025 - rec: 0.5349\n",
      "Epoch 00130: val_acc did not improve from 0.88462\n",
      "26/26 [==============================] - 36s 1s/step - loss: 0.0413 - acc: 0.7476 - auc: 0.9025 - rec: 0.5349 - val_loss: 0.1012 - val_acc: 0.8846 - val_auc: 0.8667 - val_rec: 0.7273\n",
      "Epoch 131/150\n",
      "26/26 [==============================] - ETA: 0s - loss: 0.0391 - acc: 0.7961 - auc: 0.9223 - rec: 0.6047\n",
      "Epoch 00131: val_acc did not improve from 0.88462\n",
      "26/26 [==============================] - 21s 804ms/step - loss: 0.0391 - acc: 0.7961 - auc: 0.9223 - rec: 0.6047 - val_loss: 0.1579 - val_acc: 0.5769 - val_auc: 0.8485 - val_rec: 0.0000e+00\n",
      "Epoch 132/150\n",
      "26/26 [==============================] - ETA: 0s - loss: 0.0397 - acc: 0.8252 - auc: 0.9267 - rec: 0.6279\n",
      "Epoch 00132: val_acc did not improve from 0.88462\n",
      "26/26 [==============================] - 21s 794ms/step - loss: 0.0397 - acc: 0.8252 - auc: 0.9267 - rec: 0.6279 - val_loss: 0.1574 - val_acc: 0.5769 - val_auc: 0.8545 - val_rec: 0.0000e+00\n",
      "Epoch 133/150\n",
      "26/26 [==============================] - ETA: 0s - loss: 0.0379 - acc: 0.8252 - auc: 0.9256 - rec: 0.6744\n",
      "Epoch 00133: val_acc did not improve from 0.88462\n",
      "26/26 [==============================] - 20s 783ms/step - loss: 0.0379 - acc: 0.8252 - auc: 0.9256 - rec: 0.6744 - val_loss: 0.1019 - val_acc: 0.8846 - val_auc: 0.8697 - val_rec: 0.7273\n",
      "Epoch 134/150\n",
      "26/26 [==============================] - ETA: 0s - loss: 0.0379 - acc: 0.8058 - auc: 0.9225 - rec: 0.6977\n",
      "Epoch 00134: val_acc did not improve from 0.88462\n",
      "26/26 [==============================] - 20s 787ms/step - loss: 0.0379 - acc: 0.8058 - auc: 0.9225 - rec: 0.6977 - val_loss: 0.1044 - val_acc: 0.8462 - val_auc: 0.8758 - val_rec: 0.7273\n",
      "Epoch 135/150\n",
      "26/26 [==============================] - ETA: 0s - loss: 0.0348 - acc: 0.8252 - auc: 0.9481 - rec: 0.6279\n",
      "Epoch 00135: val_acc did not improve from 0.88462\n",
      "26/26 [==============================] - 20s 777ms/step - loss: 0.0348 - acc: 0.8252 - auc: 0.9481 - rec: 0.6279 - val_loss: 0.1017 - val_acc: 0.7308 - val_auc: 0.8515 - val_rec: 0.3636\n",
      "Epoch 136/150\n",
      "26/26 [==============================] - ETA: 0s - loss: 0.0372 - acc: 0.8252 - auc: 0.9281 - rec: 0.6977\n",
      "Epoch 00136: val_acc did not improve from 0.88462\n",
      "26/26 [==============================] - 20s 782ms/step - loss: 0.0372 - acc: 0.8252 - auc: 0.9281 - rec: 0.6977 - val_loss: 0.1137 - val_acc: 0.7308 - val_auc: 0.8515 - val_rec: 0.3636\n",
      "Epoch 137/150\n",
      "26/26 [==============================] - ETA: 0s - loss: 0.0350 - acc: 0.7767 - auc: 0.9591 - rec: 0.4884\n",
      "Epoch 00137: val_acc did not improve from 0.88462\n",
      "26/26 [==============================] - 20s 785ms/step - loss: 0.0350 - acc: 0.7767 - auc: 0.9591 - rec: 0.4884 - val_loss: 0.1290 - val_acc: 0.5769 - val_auc: 0.8455 - val_rec: 0.0000e+00\n"
     ]
    },
    {
     "name": "stdout",
     "output_type": "stream",
     "text": [
      "Epoch 138/150\n",
      "26/26 [==============================] - ETA: 0s - loss: 0.0315 - acc: 0.8350 - auc: 0.9624 - rec: 0.6744\n",
      "Epoch 00138: val_acc did not improve from 0.88462\n",
      "26/26 [==============================] - 20s 787ms/step - loss: 0.0315 - acc: 0.8350 - auc: 0.9624 - rec: 0.6744 - val_loss: 0.1295 - val_acc: 0.6154 - val_auc: 0.8576 - val_rec: 0.0909\n",
      "Epoch 139/150\n",
      "26/26 [==============================] - ETA: 0s - loss: 0.0345 - acc: 0.8835 - auc: 0.9446 - rec: 0.8372\n",
      "Epoch 00139: val_acc did not improve from 0.88462\n",
      "26/26 [==============================] - 21s 797ms/step - loss: 0.0345 - acc: 0.8835 - auc: 0.9446 - rec: 0.8372 - val_loss: 0.1260 - val_acc: 0.8462 - val_auc: 0.8788 - val_rec: 0.7273\n",
      "Epoch 140/150\n",
      "26/26 [==============================] - ETA: 0s - loss: 0.0387 - acc: 0.8447 - auc: 0.9252 - rec: 0.6977\n",
      "Epoch 00140: val_acc did not improve from 0.88462\n",
      "26/26 [==============================] - 21s 805ms/step - loss: 0.0387 - acc: 0.8447 - auc: 0.9252 - rec: 0.6977 - val_loss: 0.1246 - val_acc: 0.5769 - val_auc: 0.8424 - val_rec: 0.0000e+00\n",
      "Epoch 141/150\n",
      "26/26 [==============================] - ETA: 0s - loss: 0.0374 - acc: 0.8058 - auc: 0.9347 - rec: 0.6279\n",
      "Epoch 00141: val_acc did not improve from 0.88462\n",
      "26/26 [==============================] - 20s 787ms/step - loss: 0.0374 - acc: 0.8058 - auc: 0.9347 - rec: 0.6279 - val_loss: 0.1017 - val_acc: 0.7692 - val_auc: 0.8424 - val_rec: 0.4545\n",
      "Epoch 142/150\n",
      "26/26 [==============================] - ETA: 0s - loss: 0.0283 - acc: 0.8835 - auc: 0.9740 - rec: 0.7907\n",
      "Epoch 00142: val_acc did not improve from 0.88462\n",
      "26/26 [==============================] - 21s 818ms/step - loss: 0.0283 - acc: 0.8835 - auc: 0.9740 - rec: 0.7907 - val_loss: 0.1083 - val_acc: 0.8462 - val_auc: 0.8667 - val_rec: 0.7273\n",
      "Epoch 143/150\n",
      "26/26 [==============================] - ETA: 0s - loss: 0.0314 - acc: 0.8641 - auc: 0.9564 - rec: 0.7674\n",
      "Epoch 00143: val_acc did not improve from 0.88462\n",
      "26/26 [==============================] - 21s 798ms/step - loss: 0.0314 - acc: 0.8641 - auc: 0.9564 - rec: 0.7674 - val_loss: 0.1024 - val_acc: 0.8846 - val_auc: 0.8485 - val_rec: 0.7273\n",
      "Epoch 144/150\n",
      "26/26 [==============================] - ETA: 0s - loss: 0.0326 - acc: 0.8932 - auc: 0.9506 - rec: 0.8140\n",
      "Epoch 00144: val_acc did not improve from 0.88462\n",
      "26/26 [==============================] - 21s 802ms/step - loss: 0.0326 - acc: 0.8932 - auc: 0.9506 - rec: 0.8140 - val_loss: 0.1000 - val_acc: 0.8846 - val_auc: 0.8485 - val_rec: 0.7273\n",
      "Epoch 145/150\n",
      "26/26 [==============================] - ETA: 0s - loss: 0.0323 - acc: 0.8738 - auc: 0.9574 - rec: 0.8140\n",
      "Epoch 00145: val_acc did not improve from 0.88462\n",
      "26/26 [==============================] - 20s 780ms/step - loss: 0.0323 - acc: 0.8738 - auc: 0.9574 - rec: 0.8140 - val_loss: 0.1090 - val_acc: 0.6923 - val_auc: 0.8515 - val_rec: 0.2727\n",
      "Epoch 146/150\n",
      "26/26 [==============================] - ETA: 0s - loss: 0.0297 - acc: 0.9126 - auc: 0.9622 - rec: 0.8605\n",
      "Epoch 00146: val_acc did not improve from 0.88462\n",
      "26/26 [==============================] - 21s 796ms/step - loss: 0.0297 - acc: 0.9126 - auc: 0.9622 - rec: 0.8605 - val_loss: 0.1060 - val_acc: 0.8462 - val_auc: 0.8636 - val_rec: 0.6364\n",
      "Epoch 147/150\n",
      "26/26 [==============================] - ETA: 0s - loss: 0.0353 - acc: 0.8544 - auc: 0.9308 - rec: 0.7442\n",
      "Epoch 00147: val_acc did not improve from 0.88462\n",
      "26/26 [==============================] - 22s 839ms/step - loss: 0.0353 - acc: 0.8544 - auc: 0.9308 - rec: 0.7442 - val_loss: 0.1027 - val_acc: 0.8077 - val_auc: 0.8515 - val_rec: 0.5455\n",
      "Epoch 148/150\n",
      "26/26 [==============================] - ETA: 0s - loss: 0.0335 - acc: 0.8641 - auc: 0.9450 - rec: 0.7442\n",
      "Epoch 00148: val_acc did not improve from 0.88462\n",
      "26/26 [==============================] - 22s 832ms/step - loss: 0.0335 - acc: 0.8641 - auc: 0.9450 - rec: 0.7442 - val_loss: 0.1142 - val_acc: 0.8462 - val_auc: 0.8485 - val_rec: 0.7273\n",
      "Epoch 149/150\n",
      "26/26 [==============================] - ETA: 0s - loss: 0.0324 - acc: 0.8447 - auc: 0.9516 - rec: 0.7209\n",
      "Epoch 00149: val_acc did not improve from 0.88462\n",
      "26/26 [==============================] - 21s 826ms/step - loss: 0.0324 - acc: 0.8447 - auc: 0.9516 - rec: 0.7209 - val_loss: 0.1220 - val_acc: 0.6154 - val_auc: 0.8394 - val_rec: 0.0909\n",
      "Epoch 150/150\n",
      "26/26 [==============================] - ETA: 0s - loss: 0.0300 - acc: 0.8738 - auc: 0.9638 - rec: 0.8140\n",
      "Epoch 00150: val_acc did not improve from 0.88462\n",
      "26/26 [==============================] - 21s 798ms/step - loss: 0.0300 - acc: 0.8738 - auc: 0.9638 - rec: 0.8140 - val_loss: 0.1267 - val_acc: 0.6538 - val_auc: 0.8424 - val_rec: 0.1818\n"
     ]
    }
   ],
   "source": [
    "# Train the model, doing validation at the end of each epoch\n",
    "epochs = 150\n",
    "history = model.fit(train_dataset,validation_data=validation_dataset,\n",
    "                    epochs=epochs,shuffle=True,verbose=1,\n",
    "                    callbacks=[checkpoint_cb,\n",
    "                              #  early_stopping_cb,\n",
    "                               tensorboard_callback,\n",
    "                              ]\n",
    "                    )"
   ]
  },
  {
   "cell_type": "code",
   "execution_count": 17,
   "metadata": {
    "colab": {
     "base_uri": "https://localhost:8080/"
    },
    "executionInfo": {
     "elapsed": 3678090,
     "status": "ok",
     "timestamp": 1610353416010,
     "user": {
      "displayName": "簡志宇",
      "photoUrl": "",
      "userId": "16413035766833027426"
     },
     "user_tz": -480
    },
    "id": "TiCu9ooJ3OOm",
    "outputId": "f4463f4c-8c51-4b56-8806-f68e4b46ec64"
   },
   "outputs": [
    {
     "name": "stdout",
     "output_type": "stream",
     "text": [
      "chekpoint/lacune/154_lacune_batch-4_wce_relu_aug_Adam-lr_1e-5_cv3_t1_cw.h5\n"
     ]
    }
   ],
   "source": [
    "weight_path=save_path+checkpoint_name+'.h5'\n",
    "print(weight_path)"
   ]
  },
  {
   "cell_type": "code",
   "execution_count": 18,
   "metadata": {
    "colab": {
     "base_uri": "https://localhost:8080/"
    },
    "executionInfo": {
     "elapsed": 3680645,
     "status": "ok",
     "timestamp": 1610353418575,
     "user": {
      "displayName": "簡志宇",
      "photoUrl": "",
      "userId": "16413035766833027426"
     },
     "user_tz": -480
    },
    "id": "o1Nkc5QqJ2Qt",
    "outputId": "349673b9-fefa-4101-f6a4-7c0823b14d23"
   },
   "outputs": [
    {
     "name": "stdout",
     "output_type": "stream",
     "text": [
      "------------------------------\n",
      "Loading and preprocessing test data...\n",
      "------------------------------\n",
      "------------------------------\n",
      "Loading saved weights...\n",
      "------------------------------\n",
      "(None, 30, 95, 95, 64)\n",
      "(None, 14, 46, 93, 64)\n",
      "(None, 6, 22, 91, 128)\n",
      "(None, 2, 10, 89, 256)\n"
     ]
    }
   ],
   "source": [
    "print('-'*30)\n",
    "print('Loading and preprocessing test data...')\n",
    "print('-'*30)\n",
    "imgs_test = x_val\n",
    "imgs_mask_test = imgs_label_valid\n",
    "\n",
    "\n",
    "print('-'*30)\n",
    "print('Loading saved weights...')\n",
    "print('-'*30)\n",
    "\n",
    "model = get_model(depth=32, width=192, height=192, class_num=1)\n",
    "\n",
    "\n",
    "model.load_weights(weight_path)"
   ]
  },
  {
   "cell_type": "code",
   "execution_count": 19,
   "metadata": {
    "colab": {
     "base_uri": "https://localhost:8080/"
    },
    "executionInfo": {
     "elapsed": 3682005,
     "status": "ok",
     "timestamp": 1610353419944,
     "user": {
      "displayName": "簡志宇",
      "photoUrl": "",
      "userId": "16413035766833027426"
     },
     "user_tz": -480
    },
    "id": "_7uVyTiOLRGF",
    "outputId": "211e0e04-31e2-4cfb-d4ff-8fa0c412f642"
   },
   "outputs": [
    {
     "name": "stdout",
     "output_type": "stream",
     "text": [
      "26/26 [==============================] - 1s 32ms/step\n"
     ]
    }
   ],
   "source": [
    "Results = model.predict(imgs_test, batch_size=1, verbose=1)"
   ]
  },
  {
   "cell_type": "code",
   "execution_count": 20,
   "metadata": {
    "colab": {
     "base_uri": "https://localhost:8080/"
    },
    "executionInfo": {
     "elapsed": 3681997,
     "status": "ok",
     "timestamp": 1610353419945,
     "user": {
      "displayName": "簡志宇",
      "photoUrl": "",
      "userId": "16413035766833027426"
     },
     "user_tz": -480
    },
    "id": "tYLc1U_cLXBW",
    "outputId": "2f1e0b8d-2bcf-49da-ab34-9ba3522e22de"
   },
   "outputs": [],
   "source": [
    "argmax_pred = np.reshape((Results>0.5).astype(int),(len(Results)))\n",
    "argmax_truth = imgs_label_valid.astype(int)"
   ]
  },
  {
   "cell_type": "code",
   "execution_count": 21,
   "metadata": {
    "scrolled": false
   },
   "outputs": [
    {
     "name": "stdout",
     "output_type": "stream",
     "text": [
      "|0 = Lacune |  | 1 = Non-Lacune|\n",
      "\n",
      "   nii name  Prediction  GroundTruth\n",
      "0    is0136           1            1\n",
      "1    is0125           0            1\n",
      "2    is0132           1            1\n",
      "3    is0038           1            1\n",
      "4    is0067           1            1\n",
      "5    is0074           1            1\n",
      "6    is0001           1            1\n",
      "7    is0031           1            1\n",
      "8    is0008           1            1\n",
      "9    is0082           0            1\n",
      "10   is0127           0            1\n",
      "11   is0029           0            0\n",
      "12   is0072           0            0\n",
      "13   is0056           0            0\n",
      "14   is0083           0            0\n",
      "15   is0040           0            0\n",
      "16   is0071           0            0\n",
      "17   is0145           0            0\n",
      "18   is0021           0            0\n",
      "19   is0077           0            0\n",
      "20   is0039           0            0\n",
      "21   is0041           0            0\n",
      "22   is0004           0            0\n",
      "23   is0111           0            0\n",
      "24   is0007           0            0\n",
      "25   is0047           0            0\n"
     ]
    }
   ],
   "source": [
    "Pred_dict ={}\n",
    "Trut_dict ={}\n",
    "nii_data=[]\n",
    "count = 0\n",
    "for i in valid_path:\n",
    "    nii_data.append(i[-14:-8])\n",
    "\n",
    "result_df = {'nii name':nii_data,\n",
    "             'Prediction': argmax_pred,\n",
    "             'GroundTruth':argmax_truth\n",
    "            }\n",
    "results_df = pd.DataFrame(result_df)\n",
    "print('|0 = Lacune |  | 1 = Non-Lacune|\\n')\n",
    "print(results_df)"
   ]
  },
  {
   "cell_type": "code",
   "execution_count": 22,
   "metadata": {
    "colab": {
     "base_uri": "https://localhost:8080/"
    },
    "executionInfo": {
     "elapsed": 3681989,
     "status": "ok",
     "timestamp": 1610353419946,
     "user": {
      "displayName": "簡志宇",
      "photoUrl": "",
      "userId": "16413035766833027426"
     },
     "user_tz": -480
    },
    "id": "kLHP27DBKgM3",
    "outputId": "0af47f34-e216-4219-9f49-16982cfb9f39"
   },
   "outputs": [],
   "source": [
    "from sklearn.metrics import confusion_matrix, plot_confusion_matrix\n",
    "cm = confusion_matrix(argmax_truth, argmax_pred)\n",
    "np.set_printoptions(precision=2)"
   ]
  },
  {
   "cell_type": "code",
   "execution_count": 23,
   "metadata": {
    "executionInfo": {
     "elapsed": 3681981,
     "status": "ok",
     "timestamp": 1610353419947,
     "user": {
      "displayName": "簡志宇",
      "photoUrl": "",
      "userId": "16413035766833027426"
     },
     "user_tz": -480
    },
    "id": "ZzwQ5wM0L1WA"
   },
   "outputs": [],
   "source": [
    "import itertools\n",
    "imgs_test = imgs_valid\n",
    "imgs_mask_test = imgs_label_valid\n",
    "def plot_confusion_matrix(cm, classes,\n",
    "                          normalize=True,\n",
    "                          title='Confusion matrix',\n",
    "                          cmap=plt.cm.Blues):\n",
    "    if normalize:\n",
    "        cm = cm.astype('float') / cm.sum(axis=1)[:, np.newaxis]\n",
    "        print(\"Normalized confusion matrix\")\n",
    "    else:\n",
    "        print('Confusion matrix, without normalization')\n",
    "\n",
    "    plt.imshow(cm, interpolation='nearest', cmap=cmap)\n",
    "    plt.title(title, fontsize=25)\n",
    "    plt.colorbar()\n",
    "    tick_marks = np.arange(len(classes))\n",
    "    plt.xticks(tick_marks, classes, rotation=90,fontsize=15)\n",
    "    plt.yticks(tick_marks, classes,fontsize=15)\n",
    "\n",
    "    fmt = '.2f' if normalize else 'd'\n",
    "    thresh = cm.max() / 2.\n",
    "    for i, j in itertools.product(range(cm.shape[0]), range(cm.shape[1])):\n",
    "        plt.text(j, i, format(cm[i, j], fmt),\n",
    "                 horizontalalignment=\"center\",\n",
    "                 color=\"white\" if cm[i, j] > thresh else \"black\",\n",
    "                 fontsize=20)\n",
    "    \n",
    "    plt.ylabel('True label', fontsize=20)\n",
    "    plt.xlabel('Predicted label',fontsize=20)\n",
    "    plt.tight_layout()"
   ]
  },
  {
   "cell_type": "code",
   "execution_count": 24,
   "metadata": {
    "colab": {
     "base_uri": "https://localhost:8080/",
     "height": 478
    },
    "executionInfo": {
     "elapsed": 3682411,
     "status": "ok",
     "timestamp": 1610353420384,
     "user": {
      "displayName": "簡志宇",
      "photoUrl": "",
      "userId": "16413035766833027426"
     },
     "user_tz": -480
    },
    "id": "0K_IFsTPMLR3",
    "outputId": "afd16f29-17eb-4e72-a0c3-6cb2c3146136"
   },
   "outputs": [
    {
     "name": "stdout",
     "output_type": "stream",
     "text": [
      "Normalized confusion matrix\n"
     ]
    },
    {
     "data": {
      "image/png": "[encoded data removed]",
      "text/plain": [
       "<Figure size 432x432 with 2 Axes>"
      ]
     },
     "metadata": {
      "needs_background": "light"
     },
     "output_type": "display_data"
    }
   ],
   "source": [
    "# species =['Normal','Anterior','Posterior']\n",
    "species = ['Lacune', 'Non-Lacune']\n",
    "plt.figure(figsize=(6,6))\n",
    "plot_confusion_matrix(cm, species)"
   ]
  }
 ],
 "metadata": {
  "accelerator": "GPU",
  "colab": {
   "authorship_tag": "ABX9TyOoc17vCy4MNWnxWrYdAXWh",
   "collapsed_sections": [],
   "mount_file_id": "1wlJ7_wWCbZnRZQ_Pu7G6CKSyEJ7C5vbZ",
   "name": "MRI_mask-image_classification_for_lacuneclass.ipynb",
   "provenance": []
  },
  "kernelspec": {
   "display_name": "Python 3",
   "language": "python",
   "name": "python3"
  },
  "language_info": {
   "codemirror_mode": {
    "name": "ipython",
    "version": 3
   },
   "file_extension": ".py",
   "mimetype": "text/x-python",
   "name": "python",
   "nbconvert_exporter": "python",
   "pygments_lexer": "ipython3",
   "version": "3.7.9"
  }
 },
 "nbformat": 4,
 "nbformat_minor": 1
}
