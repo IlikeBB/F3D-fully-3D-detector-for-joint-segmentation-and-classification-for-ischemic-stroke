{
 "cells": [
  {
   "cell_type": "code",
   "execution_count": 1,
   "metadata": {},
   "outputs": [
    {
     "name": "stdout",
     "output_type": "stream",
     "text": [
      "(129, 32, 192, 192) (129, 32, 192, 192) (129,)\n",
      "(129, 32, 192, 192) (129,) (129,)\n"
     ]
    }
   ],
   "source": [
    "import numpy as np\n",
    "from utils.model_3d_denseunet import threed_unet\n",
    "from utils.model_1 import get_model\n",
    "import os\n",
    "os.environ[\"CUDA_VISIBLE_DEVICES\"] = \"1\"\n",
    "MRI_nii_folder_path = 'nii_save_np/lacune/'\n",
    "cv = 3\n",
    "# S1------------------------------------------\n",
    "train_val_path1 = np.load(MRI_nii_folder_path+f'cv{cv}_path_train_val.npy')\n",
    "train_val_x1 = np.load(MRI_nii_folder_path+f'cv{cv}_x_strain_val.npy')\n",
    "train_val_y1 = np.load(MRI_nii_folder_path+f'cv{cv}_y_strain_val.npy')\n",
    "\n",
    "print(train_val_x1.shape, train_val_y1.shape, train_val_path1.shape)\n",
    "# S2------------------------------------------\n",
    "train_val_x2 = np.load(MRI_nii_folder_path+f'cv{cv}_x_ctrain_val.npy')\n",
    "train_val_y2 = np.load(MRI_nii_folder_path+f'cv{cv}_y_ctrain_val.npy')\n",
    "print(train_val_x2.shape, train_val_y2.shape, train_val_path1.shape)"
   ]
  },
  {
   "cell_type": "code",
   "execution_count": 2,
   "metadata": {},
   "outputs": [
    {
     "name": "stdout",
     "output_type": "stream",
     "text": [
      "(26, 32, 192, 192) (26, 32, 192, 192)\n",
      "(26, 32, 192, 192) (26,)\n"
     ]
    }
   ],
   "source": [
    "ds = int(train_val_x1.shape[0]*0.8)\n",
    "x_val1 = train_val_x1[ds:].astype(np.float32)\n",
    "y_val1 = train_val_y1[ds:].astype(np.float32)\n",
    "valid_path1 = train_val_path1[ds:]\n",
    "x_val2 = train_val_x2[ds:].astype(np.float32)\n",
    "y_val2 = train_val_y2[ds:].astype(np.float32)\n",
    "valid_path2 = train_val_path1[ds:]\n",
    "print(x_val1.shape, y_val1.shape)\n",
    "print(x_val2.shape, y_val2.shape)"
   ]
  },
  {
   "cell_type": "code",
   "execution_count": 3,
   "metadata": {},
   "outputs": [
    {
     "name": "stdout",
     "output_type": "stream",
     "text": [
      "3d_mask_classification/checkpoint/2_class/binary1/pair_L_154_3DUnet_binary_batch-1_focal_tversky_leaky_aug_Adam-lr-1e-5_cv3_t4.hdf5\n",
      "chekpoint/lacune/154_lacune_batch-4_wce_relu_aug_Adam-lr_1e-5_cv3_t1_cw.h5\n"
     ]
    }
   ],
   "source": [
    "weight_name1 = f'pair_L_154_3DUnet_binary_batch-1_focal_tversky_leaky_aug_Adam-lr-1e-5_cv{cv}_t4.hdf5'\n",
    "weight_name2 = f'154_lacune_batch-4_wce_relu_aug_Adam-lr_1e-5_cv{cv}_t1_cw.h5'\n",
    "weight_path1 = '3d_mask_classification/checkpoint/2_class/binary1/' + weight_name1\n",
    "weight_path2 = 'chekpoint/lacune/' + weight_name2\n",
    "print(weight_path1)\n",
    "print(weight_path2)"
   ]
  },
  {
   "cell_type": "code",
   "execution_count": 4,
   "metadata": {},
   "outputs": [
    {
     "name": "stdout",
     "output_type": "stream",
     "text": [
      "------------------------------\n",
      "Loading S1 saved weights...\n",
      "------------------------------\n",
      "6/6 [==============================] - 101s 17s/step\n"
     ]
    }
   ],
   "source": [
    "# S1------------------------------------------\n",
    "print('-'*30)\n",
    "print('Loading S1 saved weights...')\n",
    "print('-'*30)\n",
    "model1 = threed_unet(img_depth=32, img_rows=192, img_cols=192)\n",
    "model1.load_weights(weight_path1)\n",
    "Results = model1.predict(x_val1, batch_size=5, verbose=1)"
   ]
  },
  {
   "cell_type": "code",
   "execution_count": 5,
   "metadata": {},
   "outputs": [
    {
     "name": "stdout",
     "output_type": "stream",
     "text": [
      "(26, 32, 192, 192, 1)\n",
      "(26, 32, 192, 192)\n"
     ]
    }
   ],
   "source": [
    "print(Results.shape)\n",
    "Results1 = np.squeeze(Results)\n",
    "print(Results1.shape)"
   ]
  },
  {
   "cell_type": "code",
   "execution_count": 7,
   "metadata": {},
   "outputs": [
    {
     "name": "stdout",
     "output_type": "stream",
     "text": [
      "(26, 32, 192, 192)\n",
      "(26, 32, 192, 192)\n"
     ]
    }
   ],
   "source": [
    "Stage1_Result = (np.squeeze(Results1)>0.10).astype(np.int32)\n",
    "print(Stage1_Result.shape)\n",
    "print(x_val1.shape)"
   ]
  },
  {
   "cell_type": "code",
   "execution_count": 8,
   "metadata": {},
   "outputs": [
    {
     "name": "stderr",
     "output_type": "stream",
     "text": [
      "100%|██████████| 26/26 [01:34<00:00,  3.62s/it]\n"
     ]
    }
   ],
   "source": [
    "# Classification\n",
    "from tqdm import tqdm\n",
    "image_mask = np.zeros((x_val1.shape[0],32,192,192))\n",
    "\n",
    "def mask_stroke_area(image_, mask_):\n",
    "    image_save = image_.copy()\n",
    "    for i in range(image_.shape[0]):\n",
    "        for j in range(image_.shape[1]):\n",
    "            for k in range(image_.shape[2]):\n",
    "                if mask_[i][j][k]==0:\n",
    "                    image_save[i][j][k]=0\n",
    "    return image_save\n",
    "\n",
    "# for i in tqdm(range(cost)):\n",
    "for i in tqdm(range(x_val1.shape[0])):\n",
    "    image_mask[i] = mask_stroke_area(x_val1[i],Stage1_Result[i])"
   ]
  },
  {
   "cell_type": "code",
   "execution_count": 9,
   "metadata": {},
   "outputs": [
    {
     "name": "stdout",
     "output_type": "stream",
     "text": [
      "(26, 32, 192, 192)\n"
     ]
    }
   ],
   "source": [
    "print(image_mask.shape)"
   ]
  },
  {
   "cell_type": "code",
   "execution_count": 11,
   "metadata": {},
   "outputs": [
    {
     "name": "stdout",
     "output_type": "stream",
     "text": [
      "------------------------------\n",
      "Loading S2 saved weights...\n",
      "------------------------------\n",
      "(None, 30, 95, 95, 64)\n",
      "(None, 14, 46, 93, 64)\n",
      "(None, 6, 22, 91, 128)\n",
      "(None, 2, 10, 89, 256)\n"
     ]
    }
   ],
   "source": [
    "# S2------------------------------------------\n",
    "print('-'*30)\n",
    "print('Loading S2 saved weights...')\n",
    "print('-'*30)\n",
    "model2 = get_model(depth=32, width=192, height=192, class_num=1)\n",
    "model2.load_weights(weight_path2)"
   ]
  },
  {
   "cell_type": "code",
   "execution_count": 12,
   "metadata": {},
   "outputs": [
    {
     "name": "stdout",
     "output_type": "stream",
     "text": [
      "26/26 [==============================] - 17s 655ms/step\n"
     ]
    }
   ],
   "source": [
    "Results2 = model2.predict(image_mask, batch_size=1, verbose=1)"
   ]
  },
  {
   "cell_type": "code",
   "execution_count": 21,
   "metadata": {},
   "outputs": [
    {
     "name": "stdout",
     "output_type": "stream",
     "text": [
      "|0 = Lacune |  | 1 = Non-Lacune|\n",
      "\n",
      "   nii name  Prediction  GroundTruth\n",
      "0    is0136           0            1\n",
      "1    is0125           0            1\n",
      "2    is0132           1            1\n",
      "3    is0038           1            1\n",
      "4    is0067           1            1\n",
      "5    is0074           1            1\n",
      "6    is0001           1            1\n",
      "7    is0031           1            1\n",
      "8    is0008           1            1\n",
      "9    is0082           1            1\n",
      "10   is0127           0            1\n",
      "11   is0029           0            0\n",
      "12   is0072           0            0\n",
      "13   is0056           0            0\n",
      "14   is0083           0            0\n",
      "15   is0040           0            0\n",
      "16   is0071           0            0\n",
      "17   is0145           0            0\n",
      "18   is0021           0            0\n",
      "19   is0077           1            0\n",
      "20   is0039           0            0\n",
      "21   is0041           0            0\n",
      "22   is0004           0            0\n",
      "23   is0111           1            0\n",
      "24   is0007           0            0\n",
      "25   is0047           0            0\n"
     ]
    }
   ],
   "source": [
    "import pandas as pd\n",
    "argmax_pred = np.reshape((Results2>0.1).astype(int),(len(Results2)))\n",
    "argmax_truth = y_val2.astype(int)\n",
    "Pred_dict ={}\n",
    "Trut_dict ={}\n",
    "nii_data=[]\n",
    "count = 0\n",
    "for i in valid_path1:\n",
    "    nii_data.append(i[-14:-8])\n",
    "\n",
    "result_df = {'nii name':nii_data,\n",
    "             'Prediction': argmax_pred,\n",
    "             'GroundTruth':argmax_truth\n",
    "            }\n",
    "results_df = pd.DataFrame(result_df)\n",
    "print('|0 = Lacune |  | 1 = Non-Lacune|\\n')\n",
    "print(results_df)"
   ]
  },
  {
   "cell_type": "code",
   "execution_count": 22,
   "metadata": {},
   "outputs": [],
   "source": [
    "from sklearn.metrics import confusion_matrix, plot_confusion_matrix\n",
    "cm = confusion_matrix(argmax_truth, argmax_pred)\n",
    "np.set_printoptions(precision=2)"
   ]
  },
  {
   "cell_type": "code",
   "execution_count": 23,
   "metadata": {},
   "outputs": [],
   "source": [
    "import itertools\n",
    "import matplotlib.pyplot as plt\n",
    "imgs_test = x_val2\n",
    "imgs_mask_test = y_val2\n",
    "def plot_confusion_matrix(cm, classes,\n",
    "                          normalize=True,\n",
    "                          title='Confusion matrix',\n",
    "                          cmap=plt.cm.Blues):\n",
    "    if normalize:\n",
    "        cm = cm.astype('float') / cm.sum(axis=1)[:, np.newaxis]\n",
    "        print(\"Normalized confusion matrix\")\n",
    "    else:\n",
    "        print('Confusion matrix, without normalization')\n",
    "\n",
    "    plt.imshow(cm, interpolation='nearest', cmap=cmap)\n",
    "    plt.title(title, fontsize=25)\n",
    "    plt.colorbar()\n",
    "    tick_marks = np.arange(len(classes))\n",
    "    plt.xticks(tick_marks, classes, rotation=90,fontsize=15)\n",
    "    plt.yticks(tick_marks, classes,fontsize=15)\n",
    "\n",
    "    fmt = '.2f' if normalize else 'd'\n",
    "    thresh = cm.max() / 2.\n",
    "    for i, j in itertools.product(range(cm.shape[0]), range(cm.shape[1])):\n",
    "        plt.text(j, i, format(cm[i, j], fmt),\n",
    "                 horizontalalignment=\"center\",\n",
    "                 color=\"white\" if cm[i, j] > thresh else \"black\",\n",
    "                 fontsize=20)\n",
    "    \n",
    "    plt.ylabel('True label', fontsize=20)\n",
    "    plt.xlabel('Predicted label',fontsize=20)\n",
    "    plt.tight_layout()"
   ]
  },
  {
   "cell_type": "code",
   "execution_count": 24,
   "metadata": {},
   "outputs": [
    {
     "name": "stdout",
     "output_type": "stream",
     "text": [
      "Normalized confusion matrix\n",
      "[[13  2]\n",
      " [ 3  8]]\n"
     ]
    },
    {
     "data": {
      "image/png": "[encoded data removed]",
      "text/plain": [
       "<Figure size 432x432 with 2 Axes>"
      ]
     },
     "metadata": {
      "needs_background": "light"
     },
     "output_type": "display_data"
    }
   ],
   "source": [
    "# species =['Normal','Anterior','Posterior']\n",
    "species = ['Lacune', 'Non-Lacune']\n",
    "plt.figure(figsize=(6,6))\n",
    "plot_confusion_matrix(cm, species)\n",
    "print(cm)"
   ]
  },
  {
   "cell_type": "code",
   "execution_count": null,
   "metadata": {},
   "outputs": [],
   "source": []
  }
 ],
 "metadata": {
  "kernelspec": {
   "display_name": "Python 3",
   "language": "python",
   "name": "python3"
  },
  "language_info": {
   "codemirror_mode": {
    "name": "ipython",
    "version": 3
   },
   "file_extension": ".py",
   "mimetype": "text/x-python",
   "name": "python",
   "nbconvert_exporter": "python",
   "pygments_lexer": "ipython3",
   "version": "3.7.9"
  }
 },
 "nbformat": 4,
 "nbformat_minor": 4
}
